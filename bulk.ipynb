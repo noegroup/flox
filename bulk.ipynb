{
 "cells": [
  {
   "cell_type": "code",
   "execution_count": 2,
   "metadata": {},
   "outputs": [
    {
     "name": "stderr",
     "output_type": "stream",
     "text": [
      "WARNING:absl:No GPU/TPU found, falling back to CPU. (Set TF_CPP_MIN_LOG_LEVEL=0 and rerun for more info.)\n"
     ]
    }
   ],
   "source": [
    "import jax\n",
    "import jax.numpy as jnp\n",
    "import flox"
   ]
  },
  {
   "cell_type": "code",
   "execution_count": 9,
   "metadata": {},
   "outputs": [],
   "source": [
    "from flox.util import key_chain\n",
    "\n",
    "\n",
    "seed = 42\n",
    "chain = key_chain(42)"
   ]
  },
  {
   "cell_type": "code",
   "execution_count": 3,
   "metadata": {},
   "outputs": [],
   "source": [
    "dim = 2\n",
    "num_particles = 20"
   ]
  },
  {
   "cell_type": "code",
   "execution_count": 13,
   "metadata": {},
   "outputs": [],
   "source": [
    "from jax_dataclasses import pytree_dataclass\n",
    "\n",
    "from jaxtyping import Float, Array  # type: ignore\n",
    "\n",
    "Particles = Float[Array, \"P D\"]\n",
    "Auxiliaries = Float[Array, \"P F\"]\n",
    "\n",
    "@pytree_dataclass(frozen=True)\n",
    "class State:\n",
    "    p: jnp.ndarray\n",
    "    q0: jnp.ndarray\n",
    "    q1: jnp.ndarray"
   ]
  },
  {
   "cell_type": "code",
   "execution_count": null,
   "metadata": {},
   "outputs": [],
   "source": [
    "resolution = (32, 32)"
   ]
  },
  {
   "cell_type": "code",
   "execution_count": 168,
   "metadata": {},
   "outputs": [],
   "source": [
    "from typing import cast\n",
    "import haiku as hk\n",
    "\n",
    "from flox._src.bulk.lattice import AggregationMethod, neighbors\n",
    "\n",
    "def indices_and_weights(pos, resolution):\n",
    "    idx = jax.vmap(flox.bulk.lattice_indices, in_axes=(0, None, None))(pos, flox.bulk.neighbors(pos.shape[-1]), resolution)\n",
    "    weights = jax.vmap(flox.bulk.lattice_weights, in_axes=(0, 0, None))(pos, idx, resolution)\n",
    "    return idx, weights\n",
    "\n",
    "\n",
    "class GaugeConvNet(hk.Module):\n",
    "\n",
    "    def __init__(self, num_out, resolution):\n",
    "        super().__init__()\n",
    "        self.num_out = num_out\n",
    "        self.resolution = resolution\n",
    "\n",
    "    def __call__(self, idx, weights, sig):\n",
    "        dim = sig.shape[-1]\n",
    "        kernel = hk.get_parameter(\n",
    "            \"kernel\",\n",
    "            shape=(3 ** dim, sig.shape[-2], self.num_out),\n",
    "            init=hk.initializers.TruncatedNormal()\n",
    "        )\n",
    "        # bias = hk.get_parameter(\n",
    "        #     \"bias\", shape=(self.num_out, 1),\n",
    "        #     init=hk.initializers.Constant(0.)\n",
    "        # )\n",
    "        sig = flox.bulk.scatter(sig, weights, idx, self.resolution)\n",
    "        other = flox.bulk.gather(sig, idx, AggregationMethod.Nothing)\n",
    "        focus = cast(Array, other[:, 4])\n",
    "        out = jax.vmap(flox.bulk.gauge_conv, in_axes=(0, 0, None, None))(\n",
    "            focus, other, neighbors(dim), kernel\n",
    "        ) #+ bias\n",
    "        return out\n",
    "\n",
    "\n",
    "class Linear(hk.Module):\n",
    "    \n",
    "    def __init__(self, num_out):\n",
    "        super().__init__()\n",
    "        self.num_out = num_out\n",
    "\n",
    "    def __call__(self, x):\n",
    "        stddev = 1./jnp.sqrt(x.shape[-2] + self.num_out)\n",
    "        w = hk.get_parameter(\n",
    "            \"weight\",\n",
    "            shape=(x.shape[-2], self.num_out),\n",
    "            init=hk.initializers.TruncatedNormal(stddev=stddev))\n",
    "        return jnp.einsum(\"...fd, fg -> ...gd\", x, w)\n",
    "\n",
    "\n",
    "class GaugeResNet(hk.Module):\n",
    "\n",
    "    def __init__(self, num_layers, num_hidden, num_out, resolution, activation, output_residual):\n",
    "        super().__init__()\n",
    "        self.num_hidden = num_hidden\n",
    "        self.resolution = resolution\n",
    "        self.activation = activation\n",
    "        self.num_layers = num_layers\n",
    "        self.num_out = num_out\n",
    "        self.output_residual = output_residual\n",
    "\n",
    "    def __call__(self, idx, weights, signal):\n",
    "        def body(signal) -> Array:\n",
    "            out = GaugeConvNet(self.num_hidden, self.resolution)(idx, weights, signal)\n",
    "            return signal + self.activation(out)\n",
    "\n",
    "        out = Linear(self.num_hidden)(signal)\n",
    "        out = hk.experimental.layer_stack(self.num_layers)(body)(out)\n",
    "        out = Linear(self.num_out)(out)\n",
    "        if self.output_residual:\n",
    "            if signal.shape[-2] in (self.num_out, 1):\n",
    "                return signal + out\n",
    "            else:\n",
    "                raise ValueError(f\"Cannot broadcast output residual.\"\\\n",
    "                                 f\"Input channels: {signal.shape[-2]}, \"\\\n",
    "                                 f\"Oututput channels: {self.num_out}.\")\n",
    "        else:\n",
    "            return signal"
   ]
  },
  {
   "cell_type": "code",
   "execution_count": 261,
   "metadata": {},
   "outputs": [],
   "source": [
    "\n",
    "from flox._src.flow.api import Transformed\n",
    "from flox._src.geom.manifold import Manifold, PointN\n",
    "from flox.flow import Affine, Lambda\n",
    "\n",
    "def indices_and_weights(pos, resolution):\n",
    "    idx = jax.vmap(flox.bulk.lattice_indices, in_axes=(0, None, None))(pos, flox.bulk.neighbors(pos.shape[-1]), resolution)\n",
    "    weights = jax.vmap(flox.bulk.lattice_weights, in_axes=(0, 0, None))(pos, idx, resolution)\n",
    "    return idx, weights\n",
    "\n",
    "class AuxUpdater(hk.Module):\n",
    "\n",
    "    def __init__(self, field, num_layers, num_hidden, num_out, resolution, activation):\n",
    "        super().__init__()\n",
    "        self.field = field\n",
    "        self.num_layers = num_layers\n",
    "        self.num_hidden = num_hidden\n",
    "        self.num_out = num_out\n",
    "        self.resolution = resolution\n",
    "        self.activation = activation\n",
    "\n",
    "    def __call__(self, state: State):\n",
    "        idx, weights = indices_and_weights(state.p, self.resolution)\n",
    "        params = GaugeResNet(\n",
    "            self.num_layers,\n",
    "            self.num_hidden,\n",
    "            self.num_out,\n",
    "            self.resolution,\n",
    "            self.activation,\n",
    "            True\n",
    "        )(idx, weights, self.field(state))\n",
    "        shift, scale = jnp.split(params, 2, axis=-2)\n",
    "        shift = shift.sum(axis=-2, keepdims=True) * 1e-4\n",
    "        scale = jnp.sqrt(1e-12 + jnp.square(scale.sum(axis=-2, keepdims=True)).sum(axis=-1, keepdims=True)) * 1e-4\n",
    "        return Affine(shift, scale)\n",
    "\n",
    "class PosUpdater(hk.Module):\n",
    "\n",
    "    def __init__(self, manifold: Manifold):\n",
    "        super().__init__()\n",
    "        self.manifold = manifold\n",
    "\n",
    "    def __call__(self, state: State) -> Lambda[PointN, PointN]:\n",
    "        shift = state.q0.sum(axis=-2)\n",
    "        \n",
    "        def shift_fn(x, shift) -> Transformed[PointN]:\n",
    "            return Transformed(self.manifold.shift(x, shift), jnp.zeros(()))\n",
    "        \n",
    "        return Lambda(\n",
    "            forward=lambda x: shift_fn(x, shift),\n",
    "            inverse=lambda x: shift_fn(x, -shift)\n",
    "        )"
   ]
  },
  {
   "cell_type": "code",
   "execution_count": 262,
   "metadata": {},
   "outputs": [],
   "source": [
    "from flox.geom import Torus\n",
    "\n",
    "torus = Torus(jnp.ones(dim))"
   ]
  },
  {
   "cell_type": "code",
   "execution_count": 271,
   "metadata": {},
   "outputs": [],
   "source": [
    "dmin = 0.1"
   ]
  },
  {
   "cell_type": "code",
   "execution_count": 272,
   "metadata": {},
   "outputs": [],
   "source": [
    "from functools import partial\n",
    "\n",
    "relax = flox.bulk.relax(\n",
    "    torus.shift,\n",
    "    flox.bulk.pairwise_penalty(\n",
    "        partial(flox.bulk.soft_edge, dmin=dmin),\n",
    "        torus\n",
    "    )\n",
    ")"
   ]
  },
  {
   "cell_type": "code",
   "execution_count": 273,
   "metadata": {},
   "outputs": [],
   "source": [
    "sigma = jnp.power(2, 1./6.) * dmin\n",
    "soften = 1e-5\n",
    "\n",
    "lennard_jones_potential = flox.bulk.pairwise_penalty(\n",
    "    partial(flox.bulk.lennard_jones_edge, sigma=sigma, soften=soften),\n",
    "    torus\n",
    ")"
   ]
  },
  {
   "cell_type": "code",
   "execution_count": 274,
   "metadata": {},
   "outputs": [],
   "source": [
    "import haiku as hk\n",
    "import lenses\n",
    "from flox._src.flow.api import Transform\n",
    "from flox._src.flow.impl import Affine\n",
    "from flox._src.util.func import Lens\n",
    "from flox.bulk import gauge_conv\n",
    "import flox.nn as fnn\n",
    "\n",
    "class Relaxation(hk.Module):\n",
    "    def __call__(self, s: State):\n",
    "        _, dq = relax(s.p)\n",
    "        dq = dq[..., None, :]\n",
    "        return Affine(dq, jnp.zeros_like(dq))\n",
    "\n",
    "\n",
    "def get_q0(state: State):\n",
    "    return state.q0\n",
    "\n",
    "def update_q0(state: State, new):\n",
    "    return lenses.bind(state).q0.set(new)\n",
    "\n",
    "def get_q1(state: State):\n",
    "    return state.q1\n",
    "\n",
    "def update_q1(state: State, new):\n",
    "    return lenses.bind(state).q1.set(new)\n",
    "\n",
    "def get_pos(state: State):\n",
    "    return state.p\n",
    "\n",
    "def update_pos(state: State, new):\n",
    "    return lenses.bind(state).p.set(new)\n",
    "\n",
    "\n",
    "def make_aux_coupling() -> Transform[State, State]:\n",
    "    return flox.flow.Pipe([\n",
    "        flox.flow.SimpleCoupling(\n",
    "            AuxUpdater(\n",
    "                get_q0,\n",
    "                2, 64, 2, (32, 32), jax.nn.silu,\n",
    "            ),\n",
    "            Lens(get_q1, update_q1)\n",
    "        ),\n",
    "        flox.flow.SimpleCoupling(\n",
    "            AuxUpdater(\n",
    "                get_q1,\n",
    "                2, 64, 2, (32, 32), jax.nn.silu,\n",
    "            ),\n",
    "            Lens(get_q0, update_q0)\n",
    "        )\n",
    "\n",
    "    ])\n",
    "\n",
    "def make_inner_flow(num_blocks) -> Transform[State, State]:\n",
    "    return flox.flow.Pipe([\n",
    "        flox.nn.haiku.LayerStack(make_aux_coupling, num_layers=num_blocks),\n",
    "        flox.flow.SimpleCoupling(\n",
    "            PosUpdater(torus),\n",
    "            Lens(get_pos, update_pos)\n",
    "        )\n",
    "    ])\n",
    "\n",
    "def make_full_flow(num_blocks) -> Transform[State, State]:\n",
    "    return flox.flow.Pipe([\n",
    "        flox.flow.SimpleCoupling(\n",
    "            Relaxation(),\n",
    "            Lens(get_q0, update_q0)\n",
    "        ),\n",
    "        make_inner_flow(num_blocks),\n",
    "    ])\n",
    "\n",
    "flow = flox.nn.haiku.to_haiku(partial(make_full_flow, num_blocks=2))"
   ]
  },
  {
   "cell_type": "code",
   "execution_count": 275,
   "metadata": {},
   "outputs": [],
   "source": [
    "from flox.flow import Transformed \n",
    "\n",
    "num_particles = 100\n",
    "\n",
    "p = jax.random.uniform(next(chain), shape=(num_particles, dim))\n",
    "q0 = jax.random.normal(next(chain), shape=(num_particles, 1, dim)) * 1e-3\n",
    "q1 = jax.random.normal(next(chain), shape=(num_particles, 1, dim)) * 1e-3\n",
    "\n",
    "params = jax.jit(flow.pure.init)(\n",
    "    next(chain),\n",
    "    State(p, q0, q1)\n",
    ")"
   ]
  },
  {
   "cell_type": "code",
   "execution_count": 276,
   "metadata": {},
   "outputs": [],
   "source": [
    "# p_, dq = jax.jit(relax)(p)\n",
    "# plt.scatter(*torus.shift(p, dq).T)"
   ]
  },
  {
   "cell_type": "code",
   "execution_count": 280,
   "metadata": {},
   "outputs": [],
   "source": [
    "p = jax.random.uniform(next(chain), shape=(num_particles, dim))\n",
    "q0 = jax.random.normal(next(chain), shape=(num_particles, 1, dim)) * 1e-3\n",
    "q1 = jax.random.normal(next(chain), shape=(num_particles, 1, dim)) * 1e-3\n",
    "\n",
    "out = jax.jit(flow.with_params(params).forward)(\n",
    "    State(p, q0, q1)\n",
    ")\n",
    "\n"
   ]
  },
  {
   "cell_type": "code",
   "execution_count": 281,
   "metadata": {},
   "outputs": [
    {
     "data": {
      "text/plain": [
       "DeviceArray(0.40552136, dtype=float32)"
      ]
     },
     "execution_count": 281,
     "metadata": {},
     "output_type": "execute_result"
    }
   ],
   "source": [
    "lennard_jones_potential(\n",
    "    out.obj.p\n",
    ")"
   ]
  },
  {
   "cell_type": "code",
   "execution_count": 282,
   "metadata": {},
   "outputs": [
    {
     "data": {
      "text/plain": [
       "<matplotlib.collections.PathCollection at 0x7f1f0d3d9c90>"
      ]
     },
     "execution_count": 282,
     "metadata": {},
     "output_type": "execute_result"
    },
    {
     "data": {
      "image/png": "[encoded data removed]",
      "text/plain": [
       "<Figure size 576x576 with 1 Axes>"
      ]
     },
     "metadata": {
      "needs_background": "light"
     },
     "output_type": "display_data"
    }
   ],
   "source": [
    "from matplotlib import pyplot as plt\n",
    "\n",
    "\n",
    "plt.figure(figsize=(8, 8))\n",
    "plt.scatter(*out.obj.p.T)"
   ]
  },
  {
   "cell_type": "code",
   "execution_count": null,
   "metadata": {},
   "outputs": [],
   "source": []
  }
 ],
 "metadata": {
  "kernelspec": {
   "display_name": "Python 3.10.5 ('dev')",
   "language": "python",
   "name": "python3"
  },
  "language_info": {
   "codemirror_mode": {
    "name": "ipython",
    "version": 3
   },
   "file_extension": ".py",
   "mimetype": "text/x-python",
   "name": "python",
   "nbconvert_exporter": "python",
   "pygments_lexer": "ipython3",
   "version": "3.10.5"
  },
  "orig_nbformat": 4,
  "vscode": {
   "interpreter": {
    "hash": "d1b6e97da93df4710d419de16df68eb92ecab97f41c13fcb5d93100dfb1d2aa2"
   }
  }
 },
 "nbformat": 4,
 "nbformat_minor": 2
}
