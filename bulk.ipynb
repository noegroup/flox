{
 "cells": [
  {
   "cell_type": "code",
   "execution_count": 1,
   "metadata": {},
   "outputs": [
    {
     "name": "stderr",
     "output_type": "stream",
     "text": [
      "WARNING:jax._src.lib.xla_bridge:No GPU/TPU found, falling back to CPU. (Set TF_CPP_MIN_LOG_LEVEL=0 and rerun for more info.)\n"
     ]
    }
   ],
   "source": [
    "import jax\n",
    "import jax.numpy as jnp\n",
    "import flox"
   ]
  },
  {
   "cell_type": "code",
   "execution_count": 2,
   "metadata": {},
   "outputs": [],
   "source": [
    "from flox.util import key_chain\n",
    "\n",
    "\n",
    "seed = 42\n",
    "chain = key_chain(42)"
   ]
  },
  {
   "cell_type": "code",
   "execution_count": 3,
   "metadata": {},
   "outputs": [],
   "source": [
    "dim = 2\n",
    "num_particles = 100\n",
    "\n",
    "dmin = 0.1"
   ]
  },
  {
   "cell_type": "code",
   "execution_count": 4,
   "metadata": {},
   "outputs": [],
   "source": [
    "from functools import partial\n",
    "from flox.geom import Torus\n",
    "\n",
    "torus = Torus(jnp.ones(dim))\n",
    "\n",
    "sigma = jnp.power(2, 1./6.) * dmin\n",
    "soften = 1e-5\n",
    "\n",
    "lennard_jones_potential = flox.bulk.pairwise_penalty(\n",
    "    partial(flox.bulk.lennard_jones_edge, sigma=sigma, soften=soften),\n",
    "    torus\n",
    ")"
   ]
  },
  {
   "cell_type": "code",
   "execution_count": 40,
   "metadata": {},
   "outputs": [],
   "source": [
    "from jax_dataclasses import pytree_dataclass\n",
    "\n",
    "from jaxtyping import Float, Array  # type: ignore\n",
    "\n",
    "from flox._src.flow.api import Transformed\n",
    "\n",
    "Particles = Float[Array, \"P D\"]\n",
    "Auxiliaries = Float[Array, \"P F\"]\n",
    "\n",
    "@pytree_dataclass(frozen=True)\n",
    "class State:\n",
    "    p: jnp.ndarray\n",
    "    q: jnp.ndarray\n",
    "\n",
    "\n",
    "def sample_base(key, num_particles, dim, aux_std):\n",
    "    chain = key_chain(key)\n",
    "    p = jax.random.uniform(next(chain), shape=(num_particles, dim))\n",
    "    q = jax.random.normal(next(chain), shape=(num_particles, dim)) * aux_std\n",
    "    ldj = harmonic(q, aux_std)\n",
    "    return Transformed(State(p, q), ldj)\n",
    "\n",
    "\n",
    "def harmonic(x, std):\n",
    "    return jnp.sum(0.5 * jnp.square(x / std))\n",
    "\n",
    "\n",
    "def base_potential(s: State, std: float):\n",
    "    return harmonic(s.q, std=std)\n",
    "\n",
    "\n",
    "def target_potential(s: State, std: float):\n",
    "    return 10 * lennard_jones_potential(s.p) + harmonic(s.q, std=std)"
   ]
  },
  {
   "cell_type": "code",
   "execution_count": 25,
   "metadata": {},
   "outputs": [],
   "source": [
    "import haiku as hk\n",
    "\n",
    "from flox._src.bulk.convolution import conv_nd, density_features, fft_conv, indices_and_weights\n",
    "\n",
    "\n",
    "class NormedResidual(hk.Module):\n",
    "    \n",
    "    def __init__(self):\n",
    "        super().__init__()\n",
    "    \n",
    "    def __call__(self, inp, out):\n",
    "        inp_mean = jnp.mean(inp, keepdims=True)\n",
    "        inp_std = jnp.std(inp, keepdims=True)\n",
    "        out_mean = jnp.mean(out, keepdims=True)\n",
    "        out_std = jnp.std(out, keepdims=True)\n",
    "        scale = hk.get_parameter(\"scale\", shape=(), init=hk.initializers.Constant(1.))\n",
    "        offset = hk.get_parameter(\"offset\", shape=(), init=hk.initializers.Constant(0.))\n",
    "        \n",
    "        out = inp + out\n",
    "        out = (out - out_mean) / (out_std + 1e-6) * inp_std * scale + inp_mean + offset\n",
    "        return out\n",
    "    \n",
    "class MixConv(hk.Module):\n",
    "    \n",
    "    def __init__(self, fout, res, kernel_size=3):\n",
    "        super().__init__()\n",
    "        self.kernel_size = kernel_size\n",
    "        self.fout = fout\n",
    "        self.res = res\n",
    "        \n",
    "    def __call__(self, inp):\n",
    "        ndims = len(self.res)\n",
    "        \n",
    "        mix = hk.get_parameter(\"mix\", shape=(2 * self.fout, self.fout), init=hk.initializers.Constant(0.))\n",
    "        \n",
    "        fin = inp.shape[-1]\n",
    "        std = jnp.sqrt(1./(fin + self.fout))\n",
    "        freq_kernel = hk.get_parameter(\n",
    "            \"spectral_kernel\",\n",
    "            shape=(*self.res, self.fout, fin),\n",
    "            init=hk.initializers.TruncatedNormal(std))\n",
    "        \n",
    "        std = jnp.sqrt(1./(fin + self.fout))\n",
    "        spat_kernel = hk.get_parameter(\n",
    "            \"spatial_kernel\",\n",
    "            shape=(*((self.kernel_size,) * ndims), self.fout, fin),\n",
    "            init=hk.initializers.TruncatedNormal(std))\n",
    "        \n",
    "        bias = hk.get_parameter(\n",
    "            \"bias\",\n",
    "            shape=(*((1,) * ndims), self.fout),\n",
    "            init=hk.initializers.Constant(0.)\n",
    "        )\n",
    "        \n",
    "        out = hk.Linear(self.fout, name=\"mixer\")(jnp.concatenate((\n",
    "            conv_nd(inp, spat_kernel),\n",
    "            fft_conv(inp, freq_kernel, len(self.res), conserve_energy=False)\n",
    "        ), axis=-1))\n",
    "        \n",
    "        return out\n",
    "\n",
    "        \n",
    "class ResNet(hk.Module):\n",
    "    def __init__(self, inner, num_layers=1, encoder=None, decoder=None, output_residual=False, activation=jax.nn.silu):\n",
    "        super().__init__()\n",
    "        def body(x):\n",
    "            return NormedResidual()(x, activation(inner()(x)))\n",
    "        self.encoder = encoder\n",
    "        self.decoder = decoder\n",
    "        self.stack = hk.experimental.layer_stack(num_layers)(body)\n",
    "        self.output_residual = output_residual\n",
    "    \n",
    "    def __call__(self, inp):\n",
    "        out = inp\n",
    "        if self.encoder is not None:\n",
    "            out = self.encoder()(out)\n",
    "        out = self.stack(out)\n",
    "        if self.decoder is not None:\n",
    "            out = self.decoder()(out)\n",
    "        if self.output_residual:\n",
    "            out = NormedResidual()(inp, out)\n",
    "        return out\n",
    "\n",
    "\n",
    "class AuxConditioner(hk.Module):\n",
    "    \n",
    "    def __init__(self, num_layers, hidden, res, smoothen):\n",
    "        super().__init__()\n",
    "        self.num_layers = num_layers\n",
    "        self.hidden = hidden\n",
    "        self.res = res\n",
    "        self.smoothen = smoothen\n",
    "    \n",
    "    def __call__(self, pos):\n",
    "        idxs, weights = indices_and_weights(pos, self.res)\n",
    "        inp = density_features(pos, self.res, idxs, weights, smoothen=self.smoothen)\n",
    "        out = ResNet(\n",
    "            partial(MixConv, self.hidden, self.res),\n",
    "            encoder=partial(MixConv, self.hidden, self.res),\n",
    "            decoder=partial(MixConv, 2, self.res),\n",
    "        )(inp)\n",
    "        out = NormedResidual()(inp[..., 1:], out)\n",
    "        return flox.bulk.gather(out, idxs) "
   ]
  },
  {
   "cell_type": "code",
   "execution_count": 55,
   "metadata": {},
   "outputs": [],
   "source": [
    "\n",
    "from flox._src.flow.api import Transformed\n",
    "from flox._src.geom.manifold import Manifold, PointN\n",
    "from flox.flow import Affine, Lambda\n",
    "\n",
    "class AuxUpdater(hk.Module):\n",
    "\n",
    "    def __init__(self, num_layers, num_hidden, resolution, smoothen):\n",
    "        super().__init__()\n",
    "        self.num_layers = num_layers\n",
    "        self.num_hidden = num_hidden\n",
    "        self.resolution = resolution\n",
    "        self.smoothen = smoothen\n",
    "\n",
    "    def __call__(self, state: State):\n",
    "        shift = AuxConditioner(self.num_layers, self.num_hidden, self.resolution, self.smoothen)(state.p) * 1e-2\n",
    "        # shift, scale = jnp.split(cond(state.p), 2, axis=-1)\n",
    "        return Affine(shift, jnp.zeros_like(shift))\n",
    "\n",
    "class PosUpdater(hk.Module):\n",
    "\n",
    "    def __init__(self, manifold: Manifold, init_scale: float=1e-3):\n",
    "        super().__init__()\n",
    "        self.manifold = manifold\n",
    "        self.init_scale = init_scale\n",
    "\n",
    "    def __call__(self, state: State) -> Lambda[PointN, PointN]:\n",
    "        shift = state.q.sum(axis=-2) * self.init_scale\n",
    "        \n",
    "        def shift_fn(x, shift) -> Transformed[PointN]:\n",
    "            return Transformed(self.manifold.shift(x, shift), jnp.zeros(()))\n",
    "        \n",
    "        return Lambda(\n",
    "            forward=lambda x: shift_fn(x, shift),\n",
    "            inverse=lambda x: shift_fn(x, -shift)\n",
    "        )"
   ]
  },
  {
   "cell_type": "code",
   "execution_count": 56,
   "metadata": {},
   "outputs": [],
   "source": [
    "from functools import partial\n",
    "\n",
    "relax = flox.bulk.relax(\n",
    "    torus.shift,\n",
    "    flox.bulk.pairwise_penalty(\n",
    "        partial(flox.bulk.soft_edge, dmin=dmin),\n",
    "        torus\n",
    "    )\n",
    ")"
   ]
  },
  {
   "cell_type": "code",
   "execution_count": 57,
   "metadata": {},
   "outputs": [],
   "source": [
    "resolution = (32, 32)"
   ]
  },
  {
   "cell_type": "code",
   "execution_count": 58,
   "metadata": {},
   "outputs": [],
   "source": [
    "import haiku as hk\n",
    "import lenses\n",
    "from flox._src.flow.api import Transform\n",
    "from flox._src.flow.impl import Affine\n",
    "from flox._src.util.func import Lens\n",
    "import flox.nn as fnn\n",
    "\n",
    "class Relaxation(hk.Module):\n",
    "    def __call__(self, s: State):\n",
    "        _, dq = relax(s.p)\n",
    "        dq = dq[..., None, :]\n",
    "        return Affine(dq, jnp.zeros_like(dq))\n",
    "\n",
    "\n",
    "def get_q(state: State):\n",
    "    return state.q\n",
    "\n",
    "def update_q(state: State, new):\n",
    "    return lenses.bind(state).q.set(new)\n",
    "\n",
    "def get_pos(state: State):\n",
    "    return state.p\n",
    "\n",
    "def update_pos(state: State, new):\n",
    "    return lenses.bind(state).p.set(new)\n",
    "\n",
    "\n",
    "def make_aux_coupling() -> Transform[State, State]:\n",
    "    return flox.flow.Pipe([\n",
    "        flox.flow.SimpleCoupling(\n",
    "            AuxUpdater(\n",
    "                num_layers=2,\n",
    "                num_hidden=32,\n",
    "                resolution=resolution,\n",
    "                smoothen=10\n",
    "            ),\n",
    "            Lens(get_q, update_q)\n",
    "        ),\n",
    "    ])\n",
    "\n",
    "def make_inner_flow(num_blocks) -> Transform[State, State]:\n",
    "    return flox.flow.Pipe([\n",
    "        flox.nn.haiku.LayerStack(make_aux_coupling, num_layers=num_blocks),\n",
    "        flox.flow.SimpleCoupling(\n",
    "            PosUpdater(torus),\n",
    "            Lens(get_pos, update_pos)\n",
    "        )\n",
    "    ])\n",
    "\n",
    "def make_full_flow(num_blocks) -> Transform[State, State]:\n",
    "    return flox.flow.Pipe([\n",
    "        flox.flow.SimpleCoupling(\n",
    "            Relaxation(),\n",
    "            Lens(get_q, update_q)\n",
    "        ),\n",
    "        make_inner_flow(num_blocks),\n",
    "    ])\n",
    "\n",
    "flow = flox.nn.haiku.to_haiku(partial(make_full_flow, num_blocks=2))"
   ]
  },
  {
   "cell_type": "code",
   "execution_count": 59,
   "metadata": {},
   "outputs": [],
   "source": [
    "from flox.flow import Transformed \n",
    "\n",
    "num_particles = 100\n",
    "\n",
    "p = jax.random.uniform(next(chain), shape=(num_particles, dim))\n",
    "q = jax.random.normal(next(chain), shape=(num_particles, dim)) * 1e-3\n",
    "\n",
    "params = jax.jit(flow.pure.init)(\n",
    "    next(chain),\n",
    "    State(p, q)\n",
    ")"
   ]
  },
  {
   "cell_type": "code",
   "execution_count": 60,
   "metadata": {},
   "outputs": [],
   "source": [
    "forward_ = jax.jit(flow.with_params(params).forward)"
   ]
  },
  {
   "cell_type": "code",
   "execution_count": 61,
   "metadata": {},
   "outputs": [],
   "source": [
    "a = sample_base(next(chain), num_particles=num_particles, dim=dim, aux_std=1e-3)\n",
    "b, dq = jax.jit(relax)(a.obj.p)\n",
    "out = forward_(a.obj)"
   ]
  },
  {
   "cell_type": "code",
   "execution_count": 62,
   "metadata": {},
   "outputs": [
    {
     "data": {
      "text/plain": [
       "(DeviceArray(6.3365364, dtype=float32),\n",
       " DeviceArray(1.7270679e+09, dtype=float32))"
      ]
     },
     "execution_count": 62,
     "metadata": {},
     "output_type": "execute_result"
    },
    {
     "data": {
      "image/png": "[encoded data removed]",
      "text/plain": [
       "<Figure size 576x576 with 1 Axes>"
      ]
     },
     "metadata": {
      "needs_background": "light"
     },
     "output_type": "display_data"
    }
   ],
   "source": [
    "from matplotlib import pyplot as plt  # type: ignore\n",
    "plt.figure(figsize=(8, 8))\n",
    "\n",
    "plt.scatter(*b.T, alpha=0.4)\n",
    "plt.scatter(*out.obj.p.T)\n",
    "\n",
    "target_potential(State(b, a.obj.q + dq), std=1.), target_potential(out.obj, std=1.)"
   ]
  },
  {
   "cell_type": "code",
   "execution_count": 63,
   "metadata": {},
   "outputs": [],
   "source": [
    "import optax\n",
    "\n",
    "NUM_ITERS = 3_000\n",
    "PLOT_INTERVAL = 50\n",
    "LEARNING_RATE = 1e-4\n",
    "\n",
    "optim = optax.adam(learning_rate=LEARNING_RATE)\n",
    "opt_state = optim.init(params)"
   ]
  },
  {
   "cell_type": "code",
   "execution_count": 64,
   "metadata": {},
   "outputs": [],
   "source": [
    "from flox.nn import train\n",
    "from flox.flow import DatasetSampler\n",
    "\n",
    "step = train.free_energy_step(partial(target_potential, std=1.), flow, optim, partial(sample_base, num_particles=num_particles, dim=dim, aux_std=1e-2), 32)\n",
    "step = jax.jit(step)"
   ]
  },
  {
   "cell_type": "code",
   "execution_count": 65,
   "metadata": {},
   "outputs": [],
   "source": [
    "loss, params, opt_state = step(next(chain), params, opt_state)"
   ]
  },
  {
   "cell_type": "code",
   "execution_count": 66,
   "metadata": {},
   "outputs": [
    {
     "data": {
      "image/png": "[encoded data removed]",
      "text/plain": [
       "<Figure size 432x288 with 1 Axes>"
      ]
     },
     "metadata": {
      "needs_background": "light"
     },
     "output_type": "display_data"
    },
    {
     "name": "stderr",
     "output_type": "stream",
     "text": [
      "loss: 1.864e+09:   1%|          | 16/3000 [01:02<3:15:18,  3.93s/it]\n"
     ]
    },
    {
     "ename": "KeyboardInterrupt",
     "evalue": "",
     "output_type": "error",
     "traceback": [
      "\u001b[0;31m---------------------------------------------------------------------------\u001b[0m",
      "\u001b[0;31mKeyboardInterrupt\u001b[0m                         Traceback (most recent call last)",
      "\u001b[1;32m/home/jonas/dev/PhD/so3/bulk.ipynb Cell 18\u001b[0m in \u001b[0;36m<cell line: 13>\u001b[0;34m()\u001b[0m\n\u001b[1;32m     <a href='vscode-notebook-cell:/home/jonas/dev/PhD/so3/bulk.ipynb#X35sZmlsZQ%3D%3D?line=9'>10</a>\u001b[0m losses \u001b[39m=\u001b[39m []\n\u001b[1;32m     <a href='vscode-notebook-cell:/home/jonas/dev/PhD/so3/bulk.ipynb#X35sZmlsZQ%3D%3D?line=12'>13</a>\u001b[0m \u001b[39mfor\u001b[39;00m i \u001b[39min\u001b[39;00m pbar:\n\u001b[0;32m---> <a href='vscode-notebook-cell:/home/jonas/dev/PhD/so3/bulk.ipynb#X35sZmlsZQ%3D%3D?line=14'>15</a>\u001b[0m     loss, params, opt_state \u001b[39m=\u001b[39m step(\u001b[39mnext\u001b[39;49m(chain), params, opt_state)  \u001b[39m# type: ignore\u001b[39;00m\n\u001b[1;32m     <a href='vscode-notebook-cell:/home/jonas/dev/PhD/so3/bulk.ipynb#X35sZmlsZQ%3D%3D?line=15'>16</a>\u001b[0m     agg_loss \u001b[39m=\u001b[39m agg_loss\u001b[39m.\u001b[39mupdate(loss)\n\u001b[1;32m     <a href='vscode-notebook-cell:/home/jonas/dev/PhD/so3/bulk.ipynb#X35sZmlsZQ%3D%3D?line=16'>17</a>\u001b[0m     losses\u001b[39m.\u001b[39mappend(agg_loss\u001b[39m.\u001b[39mvalue)\n",
      "File \u001b[0;32m<string>:1\u001b[0m, in \u001b[0;36m<lambda>\u001b[0;34m(_cls, count, mu, nu)\u001b[0m\n",
      "\u001b[0;31mKeyboardInterrupt\u001b[0m: "
     ]
    }
   ],
   "source": [
    "import time\n",
    "\n",
    "from IPython import display  # type: ignore\n",
    "from IPython.display import clear_output\n",
    "from matplotlib import pyplot as plt  # type: ignore\n",
    "from tqdm import tqdm\n",
    "\n",
    "pbar = tqdm(range(NUM_ITERS))\n",
    "agg_loss = train.RunningMean(0., 0)\n",
    "losses = []\n",
    "\n",
    "\n",
    "for i in pbar:\n",
    "    \n",
    "    loss, params, opt_state = step(next(chain), params, opt_state)  # type: ignore\n",
    "    agg_loss = agg_loss.update(loss)\n",
    "    losses.append(agg_loss.value)\n",
    "    \n",
    "    pbar.set_description(f\"loss: {agg_loss.value:.4}\")\n",
    "    if not i % PLOT_INTERVAL:\n",
    "        \n",
    "        display.clear_output(wait=True)\n",
    "        plt.plot(losses)\n",
    "        plt.ylabel(\"NLL\")\n",
    "        plt.xlabel(\"#iters\")\n",
    "    \n",
    "        plt.show()\n",
    "        time.sleep(0.001)"
   ]
  }
 ],
 "metadata": {
  "kernelspec": {
   "display_name": "Python 3 (ipykernel)",
   "language": "python",
   "name": "python3"
  },
  "language_info": {
   "codemirror_mode": {
    "name": "ipython",
    "version": 3
   },
   "file_extension": ".py",
   "mimetype": "text/x-python",
   "name": "python",
   "nbconvert_exporter": "python",
   "pygments_lexer": "ipython3",
   "version": "3.10.5"
  },
  "orig_nbformat": 4,
  "vscode": {
   "interpreter": {
    "hash": "d1b6e97da93df4710d419de16df68eb92ecab97f41c13fcb5d93100dfb1d2aa2"
   }
  }
 },
 "nbformat": 4,
 "nbformat_minor": 2
}
