{
 "cells": [
  {
   "cell_type": "markdown",
   "metadata": {},
   "source": [
    "# Setup system"
   ]
  },
  {
   "cell_type": "code",
   "execution_count": 1,
   "metadata": {},
   "outputs": [],
   "source": [
    "%load_ext autoreload\n",
    "%autoreload 2"
   ]
  },
  {
   "cell_type": "code",
   "execution_count": 2,
   "metadata": {},
   "outputs": [
    {
     "name": "stdout",
     "output_type": "stream",
     "text": [
      "env: FLOX_STRICT_TYPING=True\n"
     ]
    }
   ],
   "source": [
    "%env FLOX_STRICT_TYPING=True"
   ]
  },
  {
   "cell_type": "code",
   "execution_count": 3,
   "metadata": {},
   "outputs": [
    {
     "name": "stderr",
     "output_type": "stream",
     "text": [
      "WARNING:root:using flox with strict typing\n",
      "WARNING:jax._src.lib.xla_bridge:No GPU/TPU found, falling back to CPU. (Set TF_CPP_MIN_LOG_LEVEL=0 and rerun for more info.)\n"
     ]
    }
   ],
   "source": [
    "import flox"
   ]
  },
  {
   "cell_type": "code",
   "execution_count": 4,
   "metadata": {},
   "outputs": [],
   "source": [
    "\"\"\" core system definitions \"\"\"\n",
    "\n",
    "\n",
    "from functools import partial\n",
    "from typing import Callable, TypeVar\n",
    "\n",
    "import jax\n",
    "from jax import numpy as jnp\n",
    "from jax_dataclasses import pytree_dataclass\n",
    "from jaxtyping import Array, Float  # type: ignore\n",
    "import jax.scipy as jscipy\n",
    "from flox.flow import Transformed\n",
    "\n",
    "from flox.util import key_chain\n",
    "\n",
    "T = TypeVar(\"T\")\n",
    "\n",
    "Scalar = Float[Array, \"\"] | float\n",
    "VectorN = Float[Array, \"N\"]\n",
    "\n",
    "Potential = Callable[[T], Scalar]\n",
    "\n",
    "def double_well_potential(\n",
    "    x: Scalar,\n",
    "    a: Scalar = 2,\n",
    "    b: Scalar = 5,\n",
    "    c: Scalar = 0.5\n",
    ") -> Scalar:\n",
    "    \"\"\" The simple double potential \"\"\"\n",
    "    return jnp.sum(a * x ** 4 - b * x ** 2 + c * x ** 3)\n",
    "\n",
    "\n",
    "def harmonic_potential(x: Scalar) -> Scalar:\n",
    "    \"\"\" The simple harmonic potential \"\"\"\n",
    "    return jnp.sum(x ** 2)\n",
    "\n",
    "\n",
    "@pytree_dataclass\n",
    "class State:\n",
    "    \"\"\" State holding the reaction coordinate\n",
    "        and auxiliary noise.\n",
    "    \"\"\"\n",
    "    pos: VectorN\n",
    "    aux: VectorN\n",
    "\n",
    "\n",
    "def joint_base_potential(s: State) -> Scalar:\n",
    "    \"\"\" combine both potentials into one \"\"\"\n",
    "    return jnp.sum(harmonic_potential(s.pos) + harmonic_potential(s.aux))\n",
    "\n",
    "\n",
    "def joint_target_potential(s: State) -> Scalar:\n",
    "    \"\"\" combine both potentials into one \"\"\"\n",
    "    return jnp.sum(double_well_potential(s.pos) + harmonic_potential(s.aux))\n",
    "\n",
    "\n",
    "def sample_base(key: jax.random.PRNGKeyArray) -> Transformed[State]:\n",
    "    chain = key_chain(key)\n",
    "    pos = jax.random.normal(next(chain), shape=(1,))\n",
    "    aux = jax.random.normal(next(chain), shape=(1,))\n",
    "    logprob = -jnp.sum(\n",
    "        jscipy.stats.norm.logpdf(pos)\n",
    "        +\n",
    "        jscipy.stats.norm.logpdf(aux)\n",
    "    )\n",
    "    return Transformed(State(pos, aux), logprob)"
   ]
  },
  {
   "cell_type": "code",
   "execution_count": 5,
   "metadata": {},
   "outputs": [],
   "source": [
    "\"\"\" init random state. \"\"\"\n",
    "\n",
    "seed = 42\n",
    "chain = key_chain(seed)"
   ]
  },
  {
   "cell_type": "markdown",
   "metadata": {},
   "source": [
    "# Plotting tools"
   ]
  },
  {
   "cell_type": "code",
   "execution_count": 6,
   "metadata": {},
   "outputs": [],
   "source": [
    "\"\"\" plotting tools \"\"\"\n",
    "\n",
    "import matplotlib.pyplot as plt\n",
    "from matplotlib.colors import LogNorm\n",
    "\n",
    "\n",
    "def plot_potential(potential: Potential, left=-2, right=1.5, res=100):\n",
    "    \"\"\" plot the potential \"\"\"\n",
    "    xs = jnp.linspace(left, right, res)\n",
    "    us = jax.vmap(potential)(xs)\n",
    "    plt.plot(xs, us)\n",
    "\n",
    "\n",
    "def density(potential: Potential, left=-3, right=3, res=1000) -> tuple[Array, Array]:\n",
    "    \"\"\" get the density for plotting \"\"\"\n",
    "    xs = jnp.linspace(left, right, res)\n",
    "    us = jax.vmap(potential)(xs)\n",
    "    pis = jnp.exp(-us)\n",
    "    Z = jnp.trapz(pis, xs)\n",
    "    ps = pis / Z\n",
    "    return xs, ps\n",
    "\n",
    "\n",
    "def plot_samples(\n",
    "    s: State,\n",
    "    potentials: tuple[Potential, Potential] | None = None,\n",
    "    weights: Float[Array, \"N\"] | None = None,\n",
    "    bins: tuple[int, int] = (50, 50),\n",
    "    range: tuple[tuple[float, float], tuple[float, float]] = ((-3, 3), (-3, 3)),\n",
    "    label: str | None = None\n",
    "):\n",
    "    \"\"\" plot samples \"\"\"\n",
    "\n",
    "    mosaic = [\n",
    "        [\"pos\", \"aux\"],\n",
    "        [\"joint\", \"joint\"]\n",
    "    ]\n",
    "    if weights is not None:\n",
    "        mosaic.append(\n",
    "            [\"joint_weighed\", \"joint_weighed\"]\n",
    "        )\n",
    "    fig, axes = plt.subplot_mosaic(mosaic, figsize=(8, 8 + (1 if weights is not None else 0)))\n",
    "\n",
    "    for i, (ax, data, title) in enumerate(zip((\"pos\", \"aux\"), (s.pos, s.aux), (\"pos\", \"aux\"))):\n",
    "        axes[ax].hist(data[:, 0], bins=bins[i], density=True, histtype=\"step\", range=range[i],  # type: ignore\n",
    "                      label=\"samples\", color=\"blue\")\n",
    "        axes[ax].set_title(title)  # type: ignore\n",
    "\n",
    "    if weights is not None:\n",
    "        for i, (ax, data, title) in enumerate(zip((\"pos\", \"aux\"), (s.pos, s.aux), (\"pos\", \"aux\"))):\n",
    "            axes[ax].hist(data[:, 0], bins=bins[i], density=True, histtype=\"step\", range=range[i],  # type: ignore\n",
    "                          label=\"samples (reweighed)\", color=\"green\", weights=weights)\n",
    "    if potentials is not None:\n",
    "        for ax, pot in zip((\"pos\", \"aux\"), potentials, strict=True):\n",
    "            xs, ps = density(pot)\n",
    "            axes[ax].plot(xs, ps, color=\"red\", label=\"density\")  # type: ignore\n",
    "    \n",
    "    for ax in (\"pos\", \"aux\"):\n",
    "        axes[ax].legend()  # type: ignore\n",
    "    \n",
    "    axes[\"joint\"].hist2d(s.pos[:, 0], s.aux[:, 0], bins=bins, range=range)  # type: ignore\n",
    "    axes[\"joint\"].set_title(\"joint\")  # type: ignore\n",
    "\n",
    "    if weights is not None:\n",
    "        axes[\"joint_weighed\"].hist2d(s.pos[:, 0], s.aux[:, 0], bins=bins, range=range, weights=weights)  # type: ignore\n",
    "        axes[\"joint_weighed\"].set_title(\"joint (reweighed)\")  # type: ignore\n",
    "    if label is not None:\n",
    "        fig.suptitle(label)  # type: ignore"
   ]
  },
  {
   "cell_type": "markdown",
   "metadata": {},
   "source": [
    "# Sample from target potential"
   ]
  },
  {
   "cell_type": "code",
   "execution_count": 7,
   "metadata": {},
   "outputs": [
    {
     "name": "stderr",
     "output_type": "stream",
     "text": [
      "/home/jonas/miniconda3/envs/flox-debug/lib/python3.10/site-packages/tqdm/auto.py:22: TqdmWarning: IProgress not found. Please update jupyter and ipywidgets. See https://ipywidgets.readthedocs.io/en/stable/user_install.html\n",
      "  from .autonotebook import tqdm as notebook_tqdm\n"
     ]
    }
   ],
   "source": [
    "\"\"\" use numpyro sampler \"\"\"\n",
    "\n",
    "import numpyro as npy  # type: ignore\n",
    "from jaxtyping import PyTree  # type: ignore\n",
    "\n",
    "\n",
    "def sample(\n",
    "    key: jax.random.PRNGKeyArray,\n",
    "    potential_fn: Potential[T],\n",
    "    num_samples: int,\n",
    "    init: T,\n",
    "    num_chains: int,\n",
    "    num_warmup: int\n",
    ") -> T:\n",
    "    \"\"\" samples from potential using numpyro's no-u-turn sampler (HMC). \"\"\"\n",
    "    mcmc = npy.infer.MCMC(npy.infer.NUTS(potential_fn=potential_fn), num_warmup=num_warmup, num_samples=num_samples, num_chains=num_chains)\n",
    "    mcmc.run(key, init_params=init)\n",
    "    return mcmc.get_samples()"
   ]
  },
  {
   "cell_type": "code",
   "execution_count": 8,
   "metadata": {},
   "outputs": [
    {
     "name": "stderr",
     "output_type": "stream",
     "text": [
      "sample: 100%|██████████| 10100/10100 [00:12<00:00, 789.94it/s, 21 steps of size 1.72e-01. acc. prob=0.96] \n"
     ]
    }
   ],
   "source": [
    "num_chains = 1\n",
    "\n",
    "init = State(\n",
    "    jax.random.normal(next(chain), (num_chains,)),\n",
    "    jax.random.normal(next(chain), (num_chains,))\n",
    ")\n",
    "\n",
    "npy.set_host_device_count(num_chains)\n",
    "data = sample(\n",
    "    next(chain),\n",
    "    joint_target_potential,\n",
    "    num_samples=10_000,\n",
    "    init=init,\n",
    "    num_chains=num_chains,\n",
    "    num_warmup=100\n",
    ")"
   ]
  },
  {
   "cell_type": "code",
   "execution_count": 9,
   "metadata": {},
   "outputs": [
    {
     "data": {
      "image/png": "[encoded data removed]",
      "text/plain": [
       "<Figure size 800x800 with 3 Axes>"
      ]
     },
     "metadata": {},
     "output_type": "display_data"
    }
   ],
   "source": [
    "\"\"\" plot data \"\"\"\n",
    "\n",
    "plot_samples(data, (double_well_potential, harmonic_potential), label=\"data\")"
   ]
  },
  {
   "cell_type": "markdown",
   "metadata": {},
   "source": [
    "---"
   ]
  },
  {
   "cell_type": "markdown",
   "metadata": {},
   "source": [
    "# Define flow"
   ]
  },
  {
   "cell_type": "code",
   "execution_count": 10,
   "metadata": {},
   "outputs": [],
   "source": [
    "\"\"\" Define the flows. \"\"\"\n",
    "\n",
    "import distrax\n",
    "import equinox as eqx\n",
    "import lenses\n",
    "\n",
    "from flox.flow import (\n",
    "    Pipe,\n",
    "    SimpleCoupling,\n",
    "    Transform,\n",
    "    Transformed,\n",
    "    Affine,\n",
    "    DistraxWrapper\n",
    ")\n",
    "from flox.util import Lens\n",
    "\n",
    "NUM_FLOW_LAYERS = 3\n",
    "NUM_HIDDEN = 128\n",
    "NUM_BINS = 8\n",
    "\n",
    "from flox._src.nn.modules import gen_dense, KeyArray\n",
    "\n",
    "\n",
    "class MySplineTransform(eqx.Module):\n",
    "\n",
    "    num_bins: int\n",
    "    context: Callable[[State], VectorN]\n",
    "    net: eqx.nn.Sequential\n",
    "\n",
    "    def __init__(self, context: Callable[[State], VectorN], num_in: int, num_hidden: int, num_bins: int, dims: int, activation=jax.nn.silu, * , key: KeyArray):\n",
    "        chain = key_chain(key)\n",
    "\n",
    "        self.context = context\n",
    "\n",
    "        num_out = (3 * num_bins + 1) * dims\n",
    "        self.num_bins = num_bins\n",
    "        self.net = eqx.nn.Sequential(tuple(gen_dense([num_in, num_hidden, num_out], activation, next(chain))))\n",
    "\n",
    "    def __call__(self, s: State) -> DistraxWrapper:\n",
    "        params = self.net(self.context(s))\n",
    "        print(params.shape)\n",
    "        params = params.reshape(-1,  3 * self.num_bins + 1)\n",
    "        return DistraxWrapper(\n",
    "            distrax.RationalQuadraticSpline(\n",
    "                params, range_min=-5., range_max=5.\n",
    "            )\n",
    "        )\n",
    "\n",
    "class MyAffineTransform(eqx.Module):\n",
    "\n",
    "    context: Callable[[State], VectorN]\n",
    "    net: eqx.nn.Sequential\n",
    "\n",
    "    def __init__(self, context: Callable[[State], VectorN], num_in: int, num_hidden: int, dims: int, activation=jax.nn.silu, *, key: KeyArray):\n",
    "        chain = key_chain(key)\n",
    "\n",
    "        self.context = context\n",
    "\n",
    "        self.net = eqx.nn.Sequential(tuple(gen_dense([num_in, num_hidden, 2 * dims], activation, next(chain))))\n",
    "\n",
    "    def __call__(self, s: State) -> Affine:\n",
    "        shift, scale = jnp.split(self.net(self.context(s)), 2)\n",
    "        return Affine(shift, scale * 1e-1)\n",
    "\n",
    "\n",
    "def get_aux(s: State) -> VectorN:\n",
    "    return s.aux\n",
    "\n",
    "def update_aux(s: State, aux: VectorN) -> State:\n",
    "    return lenses.bind(s).aux.set(aux)\n",
    "    \n",
    "def get_pos(s: State) -> VectorN:\n",
    "    return s.pos\n",
    "\n",
    "def update_pos(s: State, pos: VectorN) -> State:\n",
    "    return lenses.bind(s).pos.set(pos)\n",
    "\n",
    "\n",
    "\"\"\"\n",
    "\n",
    "State -> Transformed[State] = (State, Volume)\n",
    "\n",
    "Seq: T -> \n",
    "\n",
    "Wrap: T -> V[T]\n",
    "Seq: [ ... V[T] ... ] -> V[T]\n",
    "\"\"\"\n",
    "\n",
    "\n",
    "flow = Pipe([\n",
    "    SimpleCoupling(\n",
    "        MyAffineTransform(get_pos, num_in=1, num_hidden=NUM_HIDDEN, dims=1, key=next(chain)),\n",
    "        Lens(get_aux, update_aux)\n",
    "    ),\n",
    "    # SimpleCoupling(\n",
    "    #     MyAffineTransform(get_aux, num_hidden=NUM_HIDDEN, dims=1),\n",
    "    #     Lens(get_pos, update_pos)\n",
    "    # ),\n",
    "    SimpleCoupling(\n",
    "        MySplineTransform(get_aux, num_in=1, num_hidden=NUM_HIDDEN, num_bins=NUM_BINS, dims=1, key=next(chain)),\n",
    "        Lens(get_pos, update_pos)\n",
    "    )\n",
    "])"
   ]
  },
  {
   "cell_type": "code",
   "execution_count": 15,
   "metadata": {},
   "outputs": [],
   "source": [
    "from jaxtyping import jaxtyped, Array, Float  # type: ignore"
   ]
  },
  {
   "cell_type": "markdown",
   "metadata": {},
   "source": [
    "# Setup optimization"
   ]
  },
  {
   "cell_type": "code",
   "execution_count": 16,
   "metadata": {},
   "outputs": [],
   "source": [
    "initializer = sample_base(next(chain))"
   ]
  },
  {
   "cell_type": "code",
   "execution_count": 20,
   "metadata": {},
   "outputs": [
    {
     "ename": "TypeError",
     "evalue": "callable passed as argument \"fn\" has too many arguments in its declaration; expected 1 but 2 argument(s) declared",
     "output_type": "error",
     "traceback": [
      "\u001b[0;31m---------------------------------------------------------------------------\u001b[0m",
      "\u001b[0;31mTypeError\u001b[0m                                 Traceback (most recent call last)",
      "\u001b[1;32m/home/jonas/dev/PhD/so3/example.ipynb Cell 19\u001b[0m in \u001b[0;36m<cell line: 1>\u001b[0;34m()\u001b[0m\n\u001b[0;32m----> <a href='vscode-notebook-cell:/home/jonas/dev/PhD/so3/example.ipynb#X25sZmlsZQ%3D%3D?line=0'>1</a>\u001b[0m flow\u001b[39m.\u001b[39;49mforward(initializer\u001b[39m.\u001b[39;49mobj)\n\u001b[1;32m      <a href='vscode-notebook-cell:/home/jonas/dev/PhD/so3/example.ipynb#X25sZmlsZQ%3D%3D?line=1'>2</a>\u001b[0m \u001b[39m# params = jax.jit(flow.pure.init)(next(chain), initializer.obj)\u001b[39;00m\n",
      "File \u001b[0;32m~/miniconda3/envs/flox-debug/lib/python3.10/site-packages/jaxtyping/decorator.py:42\u001b[0m, in \u001b[0;36m_Jaxtyped.__call__\u001b[0;34m(self, *args, **kwargs)\u001b[0m\n\u001b[1;32m     40\u001b[0m memo_stack\u001b[39m.\u001b[39mappend(({}, {}, {}))\n\u001b[1;32m     41\u001b[0m \u001b[39mtry\u001b[39;00m:\n\u001b[0;32m---> 42\u001b[0m     \u001b[39mreturn\u001b[39;00m \u001b[39mself\u001b[39;49m\u001b[39m.\u001b[39;49mfn(\u001b[39m*\u001b[39;49margs, \u001b[39m*\u001b[39;49m\u001b[39m*\u001b[39;49mkwargs)\n\u001b[1;32m     43\u001b[0m \u001b[39mfinally\u001b[39;00m:\n\u001b[1;32m     44\u001b[0m     memo_stack\u001b[39m.\u001b[39mpop()\n",
      "File \u001b[0;32m~/miniconda3/envs/flox-debug/lib/python3.10/site-packages/typeguard/__init__.py:1033\u001b[0m, in \u001b[0;36mtypechecked.<locals>.wrapper\u001b[0;34m(*args, **kwargs)\u001b[0m\n\u001b[1;32m   1031\u001b[0m memo \u001b[39m=\u001b[39m _CallMemo(python_func, _localns, args\u001b[39m=\u001b[39margs, kwargs\u001b[39m=\u001b[39mkwargs)\n\u001b[1;32m   1032\u001b[0m check_argument_types(memo)\n\u001b[0;32m-> 1033\u001b[0m retval \u001b[39m=\u001b[39m func(\u001b[39m*\u001b[39;49margs, \u001b[39m*\u001b[39;49m\u001b[39m*\u001b[39;49mkwargs)\n\u001b[1;32m   1034\u001b[0m \u001b[39mtry\u001b[39;00m:\n\u001b[1;32m   1035\u001b[0m     check_return_type(retval, memo)\n",
      "File \u001b[0;32m~/dev/PhD/so3/flox/_src/flow/api.py:147\u001b[0m, in \u001b[0;36mPipe.forward\u001b[0;34m(self, input)\u001b[0m\n\u001b[1;32m    145\u001b[0m accum \u001b[39m=\u001b[39m pure(\u001b[39minput\u001b[39m)\n\u001b[1;32m    146\u001b[0m \u001b[39mfor\u001b[39;00m t \u001b[39min\u001b[39;00m \u001b[39mself\u001b[39m\u001b[39m.\u001b[39mtransforms:\n\u001b[0;32m--> 147\u001b[0m     accum \u001b[39m=\u001b[39m bind(accum, t)\n\u001b[1;32m    148\u001b[0m \u001b[39mreturn\u001b[39;00m cast(Transformed[Output], accum)\n",
      "File \u001b[0;32m~/dev/PhD/so3/flox/_src/flow/api.py:67\u001b[0m, in \u001b[0;36mbind\u001b[0;34m(a, t)\u001b[0m\n\u001b[1;32m     65\u001b[0m \u001b[39mdef\u001b[39;00m \u001b[39mbind\u001b[39m(a: Transformed[T], t: Transform[T, S]) \u001b[39m-\u001b[39m\u001b[39m>\u001b[39m Transformed[S]:\n\u001b[1;32m     66\u001b[0m     \u001b[39m\"\"\"monadic bind operator\"\"\"\u001b[39;00m\n\u001b[0;32m---> 67\u001b[0m     tb \u001b[39m=\u001b[39m t\u001b[39m.\u001b[39;49mforward(a\u001b[39m.\u001b[39;49mobj)\n\u001b[1;32m     68\u001b[0m     \u001b[39mreturn\u001b[39;00m Transformed(tb\u001b[39m.\u001b[39mobj, tb\u001b[39m.\u001b[39mldj \u001b[39m+\u001b[39m a\u001b[39m.\u001b[39mldj)\n",
      "File \u001b[0;32m~/miniconda3/envs/flox-debug/lib/python3.10/site-packages/jaxtyping/decorator.py:42\u001b[0m, in \u001b[0;36m_Jaxtyped.__call__\u001b[0;34m(self, *args, **kwargs)\u001b[0m\n\u001b[1;32m     40\u001b[0m memo_stack\u001b[39m.\u001b[39mappend(({}, {}, {}))\n\u001b[1;32m     41\u001b[0m \u001b[39mtry\u001b[39;00m:\n\u001b[0;32m---> 42\u001b[0m     \u001b[39mreturn\u001b[39;00m \u001b[39mself\u001b[39;49m\u001b[39m.\u001b[39;49mfn(\u001b[39m*\u001b[39;49margs, \u001b[39m*\u001b[39;49m\u001b[39m*\u001b[39;49mkwargs)\n\u001b[1;32m     43\u001b[0m \u001b[39mfinally\u001b[39;00m:\n\u001b[1;32m     44\u001b[0m     memo_stack\u001b[39m.\u001b[39mpop()\n",
      "File \u001b[0;32m~/miniconda3/envs/flox-debug/lib/python3.10/site-packages/typeguard/__init__.py:1033\u001b[0m, in \u001b[0;36mtypechecked.<locals>.wrapper\u001b[0;34m(*args, **kwargs)\u001b[0m\n\u001b[1;32m   1031\u001b[0m memo \u001b[39m=\u001b[39m _CallMemo(python_func, _localns, args\u001b[39m=\u001b[39margs, kwargs\u001b[39m=\u001b[39mkwargs)\n\u001b[1;32m   1032\u001b[0m check_argument_types(memo)\n\u001b[0;32m-> 1033\u001b[0m retval \u001b[39m=\u001b[39m func(\u001b[39m*\u001b[39;49margs, \u001b[39m*\u001b[39;49m\u001b[39m*\u001b[39;49mkwargs)\n\u001b[1;32m   1034\u001b[0m \u001b[39mtry\u001b[39;00m:\n\u001b[1;32m   1035\u001b[0m     check_return_type(retval, memo)\n",
      "File \u001b[0;32m~/dev/PhD/so3/flox/_src/flow/api.py:131\u001b[0m, in \u001b[0;36mSimpleCoupling.forward\u001b[0;34m(self, input)\u001b[0m\n\u001b[1;32m    127\u001b[0m \u001b[39mdef\u001b[39;00m \u001b[39mforward\u001b[39m(\u001b[39mself\u001b[39m, \u001b[39minput\u001b[39m: A) \u001b[39m-\u001b[39m\u001b[39m>\u001b[39m Transformed[A]:\n\u001b[1;32m    128\u001b[0m     transform \u001b[39m=\u001b[39m \u001b[39mself\u001b[39m\u001b[39m.\u001b[39mtransform_cstr(\u001b[39minput\u001b[39m)\n\u001b[1;32m    129\u001b[0m     \u001b[39mreturn\u001b[39;00m LensedTransform(\n\u001b[1;32m    130\u001b[0m         transform, \u001b[39mself\u001b[39;49m\u001b[39m.\u001b[39;49mget_target, \u001b[39mself\u001b[39;49m\u001b[39m.\u001b[39;49mget_target\n\u001b[0;32m--> 131\u001b[0m     )\u001b[39m.\u001b[39;49mforward(\u001b[39minput\u001b[39;49m)\n",
      "File \u001b[0;32m~/dev/PhD/so3/flox/_src/flow/api.py:87\u001b[0m, in \u001b[0;36mLensedTransform.forward\u001b[0;34m(self, input)\u001b[0m\n\u001b[1;32m     86\u001b[0m \u001b[39mdef\u001b[39;00m \u001b[39mforward\u001b[39m(\u001b[39mself\u001b[39m, \u001b[39minput\u001b[39m: A) \u001b[39m-\u001b[39m\u001b[39m>\u001b[39m Transformed[B]:\n\u001b[0;32m---> 87\u001b[0m     \u001b[39mreturn\u001b[39;00m unpack_volume(\u001b[39mself\u001b[39;49m\u001b[39m.\u001b[39;49mforward_lens)(\u001b[39mself\u001b[39;49m\u001b[39m.\u001b[39;49mtransform\u001b[39m.\u001b[39;49mforward)(\u001b[39minput\u001b[39m)\n",
      "File \u001b[0;32m~/miniconda3/envs/flox-debug/lib/python3.10/site-packages/jaxtyping/decorator.py:42\u001b[0m, in \u001b[0;36m_Jaxtyped.__call__\u001b[0;34m(self, *args, **kwargs)\u001b[0m\n\u001b[1;32m     40\u001b[0m memo_stack\u001b[39m.\u001b[39mappend(({}, {}, {}))\n\u001b[1;32m     41\u001b[0m \u001b[39mtry\u001b[39;00m:\n\u001b[0;32m---> 42\u001b[0m     \u001b[39mreturn\u001b[39;00m \u001b[39mself\u001b[39;49m\u001b[39m.\u001b[39;49mfn(\u001b[39m*\u001b[39;49margs, \u001b[39m*\u001b[39;49m\u001b[39m*\u001b[39;49mkwargs)\n\u001b[1;32m     43\u001b[0m \u001b[39mfinally\u001b[39;00m:\n\u001b[1;32m     44\u001b[0m     memo_stack\u001b[39m.\u001b[39mpop()\n",
      "File \u001b[0;32m~/miniconda3/envs/flox-debug/lib/python3.10/site-packages/typeguard/__init__.py:1032\u001b[0m, in \u001b[0;36mtypechecked.<locals>.wrapper\u001b[0;34m(*args, **kwargs)\u001b[0m\n\u001b[1;32m   1030\u001b[0m \u001b[39mdef\u001b[39;00m \u001b[39mwrapper\u001b[39m(\u001b[39m*\u001b[39margs, \u001b[39m*\u001b[39m\u001b[39m*\u001b[39mkwargs):\n\u001b[1;32m   1031\u001b[0m     memo \u001b[39m=\u001b[39m _CallMemo(python_func, _localns, args\u001b[39m=\u001b[39margs, kwargs\u001b[39m=\u001b[39mkwargs)\n\u001b[0;32m-> 1032\u001b[0m     check_argument_types(memo)\n\u001b[1;32m   1033\u001b[0m     retval \u001b[39m=\u001b[39m func(\u001b[39m*\u001b[39margs, \u001b[39m*\u001b[39m\u001b[39m*\u001b[39mkwargs)\n\u001b[1;32m   1034\u001b[0m     \u001b[39mtry\u001b[39;00m:\n",
      "File \u001b[0;32m~/miniconda3/envs/flox-debug/lib/python3.10/site-packages/typeguard/__init__.py:875\u001b[0m, in \u001b[0;36mcheck_argument_types\u001b[0;34m(memo)\u001b[0m\n\u001b[1;32m    873\u001b[0m             check_type(description, value, expected_type, memo)\n\u001b[1;32m    874\u001b[0m         \u001b[39mexcept\u001b[39;00m \u001b[39mTypeError\u001b[39;00m \u001b[39mas\u001b[39;00m exc:  \u001b[39m# suppress unnecessarily long tracebacks\u001b[39;00m\n\u001b[0;32m--> 875\u001b[0m             \u001b[39mraise\u001b[39;00m \u001b[39mTypeError\u001b[39;00m(\u001b[39m*\u001b[39mexc\u001b[39m.\u001b[39margs) \u001b[39mfrom\u001b[39;00m \u001b[39mNone\u001b[39m\n\u001b[1;32m    877\u001b[0m \u001b[39mreturn\u001b[39;00m \u001b[39mTrue\u001b[39;00m\n",
      "\u001b[0;31mTypeError\u001b[0m: callable passed as argument \"fn\" has too many arguments in its declaration; expected 1 but 2 argument(s) declared"
     ]
    }
   ],
   "source": [
    "flow.forward(initializer.obj)\n",
    "# params = jax.jit(flow.pure.init)(next(chain), initializer.obj)"
   ]
  },
  {
   "cell_type": "code",
   "execution_count": null,
   "metadata": {},
   "outputs": [
    {
     "data": {
      "text/plain": [
       "<function __main__.bar.<locals>.test(x: ~T)>"
      ]
     },
     "execution_count": 21,
     "metadata": {},
     "output_type": "execute_result"
    }
   ],
   "source": [
    "from typeguard import typechecked\n",
    "\n",
    "@typechecked\n",
    "class A:\n",
    "\n",
    "    @typechecked\n",
    "    def foo(self, a: int):\n",
    "        print(a)\n",
    "        return a\n",
    "\n",
    "T = TypeVar(\"T\")\n",
    "\n",
    "@typechecked\n",
    "def bar(fn: Callable[[T], T], x: T) -> Callable[[T], T]:\n",
    "\n",
    "    @typechecked\n",
    "    def test(x: T):\n",
    "        return fn(x)\n",
    "    return test\n",
    "\n",
    "\n",
    "# class Lens(Generic[A, B, C, D]):\n",
    "#     project: Callable[[A], C]\n",
    "#     inject: Callable[[A, D], B]\n",
    "\n",
    "#     def __call__(self, fn: Callable[[C], D]) -> Callable[[A], B]:\n",
    "#         def lifted(a: A) -> B:\n",
    "#             return self.inject(a, fn(self.project(a)))\n",
    "\n",
    "#         return lifted\n",
    "\n",
    "a = A()\n",
    "bar(a.foo, 3)"
   ]
  },
  {
   "cell_type": "code",
   "execution_count": null,
   "metadata": {},
   "outputs": [],
   "source": []
  },
  {
   "cell_type": "code",
   "execution_count": null,
   "metadata": {},
   "outputs": [
    {
     "ename": "",
     "evalue": "",
     "output_type": "error",
     "traceback": [
      "\u001b[1;31mRunning cells with 'Python 3.10.6 ('flox-debug')' requires ipykernel package.\n",
      "\u001b[1;31mRun the following command to install 'ipykernel' into the Python environment. \n",
      "\u001b[1;31mCommand: 'conda install -n flox-debug ipykernel --update-deps --force-reinstall'"
     ]
    }
   ],
   "source": [
    "import optax\n",
    "\n",
    "NUM_ITERS = 3_000\n",
    "PLOT_INTERVAL = 50\n",
    "LEARNING_RATE = 1e-4\n",
    "\n",
    "optim = optax.adam(learning_rate=LEARNING_RATE)\n",
    "\n",
    "params, static = eqx.partition(flow, eqx.is_array)\n",
    "opt_state = optim.init(params)"
   ]
  },
  {
   "cell_type": "markdown",
   "metadata": {},
   "source": [
    "# Train"
   ]
  },
  {
   "cell_type": "code",
   "execution_count": null,
   "metadata": {},
   "outputs": [
    {
     "ename": "",
     "evalue": "",
     "output_type": "error",
     "traceback": [
      "\u001b[1;31mRunning cells with 'Python 3.10.6 ('flox-debug')' requires ipykernel package.\n",
      "\u001b[1;31mRun the following command to install 'ipykernel' into the Python environment. \n",
      "\u001b[1;31mCommand: 'conda install -n flox-debug ipykernel --update-deps --force-reinstall'"
     ]
    }
   ],
   "source": [
    "initializer = sample_base(next(chain))"
   ]
  },
  {
   "cell_type": "code",
   "execution_count": null,
   "metadata": {},
   "outputs": [
    {
     "ename": "",
     "evalue": "",
     "output_type": "error",
     "traceback": [
      "\u001b[1;31mRunning cells with 'Python 3.10.6 ('flox-debug')' requires ipykernel package.\n",
      "\u001b[1;31mRun the following command to install 'ipykernel' into the Python environment. \n",
      "\u001b[1;31mCommand: 'conda install -n flox-debug ipykernel --update-deps --force-reinstall'"
     ]
    }
   ],
   "source": [
    "from flox.nn import train\n",
    "from flox.flow import DatasetSampler\n",
    "\n",
    "step = train.mle_step(joint_base_potential, optim, DatasetSampler(data, data.pos.shape[0]), 128)"
   ]
  },
  {
   "cell_type": "code",
   "execution_count": null,
   "metadata": {},
   "outputs": [
    {
     "ename": "",
     "evalue": "",
     "output_type": "error",
     "traceback": [
      "\u001b[1;31mRunning cells with 'Python 3.10.6 ('flox-debug')' requires ipykernel package.\n",
      "\u001b[1;31mRun the following command to install 'ipykernel' into the Python environment. \n",
      "\u001b[1;31mCommand: 'conda install -n flox-debug ipykernel --update-deps --force-reinstall'"
     ]
    }
   ],
   "source": [
    "import time\n",
    "\n",
    "from IPython import display  # type: ignore\n",
    "from IPython.display import clear_output  # type: ignore\n",
    "from tqdm import tqdm\n",
    "\n",
    "pbar = tqdm(range(NUM_ITERS))\n",
    "agg_loss = train.RunningMean(0., 0)\n",
    "losses = []\n",
    "\n",
    "\n",
    "for i in pbar:\n",
    "    \n",
    "    loss, flow, opt_state = step(next(chain), flow, opt_state)  # type: ignore\n",
    "    agg_loss = agg_loss.update(loss)\n",
    "    losses.append(agg_loss.value)\n",
    "    \n",
    "    pbar.set_description(f\"loss: {agg_loss.value:.4}\")\n",
    "    if not i % PLOT_INTERVAL:\n",
    "        \n",
    "        display.clear_output(wait=True)\n",
    "        plt.plot(losses)\n",
    "        plt.ylabel(\"NLL\")\n",
    "        plt.xlabel(\"#iters\")\n",
    "    \n",
    "        plt.show()\n",
    "        time.sleep(0.001)"
   ]
  },
  {
   "cell_type": "markdown",
   "metadata": {},
   "source": [
    "# Check inverses"
   ]
  },
  {
   "cell_type": "code",
   "execution_count": null,
   "metadata": {},
   "outputs": [
    {
     "ename": "",
     "evalue": "",
     "output_type": "error",
     "traceback": [
      "\u001b[1;31mRunning cells with 'Python 3.10.6 ('flox-debug')' requires ipykernel package.\n",
      "\u001b[1;31mRun the following command to install 'ipykernel' into the Python environment. \n",
      "\u001b[1;31mCommand: 'conda install -n flox-debug ipykernel --update-deps --force-reinstall'"
     ]
    }
   ],
   "source": [
    "a = flow.forward(\n",
    "    initializer.obj\n",
    ")\n",
    "b = flow.inverse(\n",
    "    a.obj\n",
    ")\n",
    "b, initializer, a"
   ]
  },
  {
   "cell_type": "markdown",
   "metadata": {},
   "source": [
    "# Sample after training"
   ]
  },
  {
   "cell_type": "code",
   "execution_count": null,
   "metadata": {},
   "outputs": [
    {
     "ename": "",
     "evalue": "",
     "output_type": "error",
     "traceback": [
      "\u001b[1;31mRunning cells with 'Python 3.10.6 ('flox-debug')' requires ipykernel package.\n",
      "\u001b[1;31mRun the following command to install 'ipykernel' into the Python environment. \n",
      "\u001b[1;31mCommand: 'conda install -n flox-debug ipykernel --update-deps --force-reinstall'"
     ]
    }
   ],
   "source": [
    "from flox.flow import PushforwardSampler\n",
    "\n",
    "out = jax.jit(jax.vmap(PushforwardSampler(sample_base, flow)))(jax.random.split(next(chain), 10_000))\n",
    "\n",
    "weights = jax.nn.softmax(\n",
    "    -jax.vmap(joint_target_potential)(out.obj) + out.ldj\n",
    ")\n",
    "\n",
    "plot_samples(out.obj, (double_well_potential, harmonic_potential), label=\"flow_samples\", weights=weights)"
   ]
  }
 ],
 "metadata": {
  "kernelspec": {
   "display_name": "Python 3.10.6 ('flox-debug')",
   "language": "python",
   "name": "python3"
  },
  "language_info": {
   "codemirror_mode": {
    "name": "ipython",
    "version": 3
   },
   "file_extension": ".py",
   "mimetype": "text/x-python",
   "name": "python",
   "nbconvert_exporter": "python",
   "pygments_lexer": "ipython3",
   "version": "3.10.6"
  },
  "vscode": {
   "interpreter": {
    "hash": "da2293997c0764481e37fa37a118ef03db119d733d1f187fb156ba91ef764ee6"
   }
  }
 },
 "nbformat": 4,
 "nbformat_minor": 4
}
