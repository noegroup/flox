{
 "cells": [
  {
   "cell_type": "markdown",
   "metadata": {},
   "source": [
    "# Setup system"
   ]
  },
  {
   "cell_type": "code",
   "execution_count": 1,
   "metadata": {},
   "outputs": [],
   "source": [
    "%load_ext autoreload\n",
    "%autoreload 2"
   ]
  },
  {
   "cell_type": "code",
   "execution_count": 2,
   "metadata": {},
   "outputs": [
    {
     "name": "stderr",
     "output_type": "stream",
     "text": [
      "WARNING:absl:No GPU/TPU found, falling back to CPU. (Set TF_CPP_MIN_LOG_LEVEL=0 and rerun for more info.)\n"
     ]
    }
   ],
   "source": [
    "\"\"\" core system definitions \"\"\"\n",
    "\n",
    "\n",
    "from functools import partial\n",
    "from typing import Callable, TypeVar\n",
    "\n",
    "import jax\n",
    "from jax import numpy as jnp\n",
    "from jax_dataclasses import pytree_dataclass\n",
    "from jaxtyping import Array, Float  # type: ignore\n",
    "import jax.scipy as jscipy\n",
    "from flox.flow import Transformed\n",
    "\n",
    "from flox.util import key_chain\n",
    "\n",
    "T = TypeVar(\"T\")\n",
    "\n",
    "Scalar = Float[Array, \"\"] | float\n",
    "VectorN = Float[Array, \"N\"]\n",
    "\n",
    "Potential = Callable[[T], Scalar]\n",
    "\n",
    "def double_well_potential(\n",
    "    x: Scalar,\n",
    "    a: Scalar = 2,\n",
    "    b: Scalar = 5,\n",
    "    c: Scalar = 0.5\n",
    ") -> Scalar:\n",
    "    \"\"\" The simple double potential \"\"\"\n",
    "    return jnp.sum(a * x ** 4 - b * x ** 2 + c * x ** 3)\n",
    "\n",
    "\n",
    "def harmonic_potential(x: Scalar) -> Scalar:\n",
    "    \"\"\" The simple harmonic potential \"\"\"\n",
    "    return jnp.sum(x ** 2)\n",
    "\n",
    "\n",
    "@pytree_dataclass\n",
    "class State:\n",
    "    \"\"\" State holding the reaction coordinate\n",
    "        and auxiliary noise.\n",
    "    \"\"\"\n",
    "    pos: VectorN\n",
    "    aux: VectorN\n",
    "\n",
    "\n",
    "def joint_base_potential(s: State) -> Scalar:\n",
    "    \"\"\" combine both potentials into one \"\"\"\n",
    "    return jnp.sum(harmonic_potential(s.pos) + harmonic_potential(s.aux))\n",
    "\n",
    "\n",
    "def joint_target_potential(s: State) -> Scalar:\n",
    "    \"\"\" combine both potentials into one \"\"\"\n",
    "    return jnp.sum(double_well_potential(s.pos) + harmonic_potential(s.aux))\n",
    "\n",
    "\n",
    "def sample_base(key: jax.random.PRNGKeyArray) -> Transformed[State]:\n",
    "    chain = key_chain(key)\n",
    "    pos = jax.random.normal(next(chain), shape=(1,))\n",
    "    aux = jax.random.normal(next(chain), shape=(1,))\n",
    "    logprob = -jnp.sum(\n",
    "        jscipy.stats.norm.logpdf(pos)\n",
    "        +\n",
    "        jscipy.stats.norm.logpdf(aux)\n",
    "    )\n",
    "    return Transformed(State(pos, aux), logprob)"
   ]
  },
  {
   "cell_type": "code",
   "execution_count": 3,
   "metadata": {},
   "outputs": [],
   "source": [
    "\"\"\" init random state. \"\"\"\n",
    "\n",
    "seed = 42\n",
    "chain = key_chain(seed)"
   ]
  },
  {
   "cell_type": "markdown",
   "metadata": {},
   "source": [
    "# Plotting tools"
   ]
  },
  {
   "cell_type": "code",
   "execution_count": 4,
   "metadata": {},
   "outputs": [],
   "source": [
    "\"\"\" plotting tools \"\"\"\n",
    "\n",
    "import matplotlib.pyplot as plt\n",
    "from matplotlib.colors import LogNorm\n",
    "\n",
    "\n",
    "def plot_potential(potential: Potential, left=-2, right=1.5, res=100):\n",
    "    \"\"\" plot the potential \"\"\"\n",
    "    xs = jnp.linspace(left, right, res)\n",
    "    us = jax.vmap(potential)(xs)\n",
    "    plt.plot(xs, us)\n",
    "\n",
    "\n",
    "def density(potential: Potential, left=-3, right=3, res=1000) -> tuple[Array, Array]:\n",
    "    \"\"\" get the density for plotting \"\"\"\n",
    "    xs = jnp.linspace(left, right, res)\n",
    "    us = jax.vmap(potential)(xs)\n",
    "    pis = jnp.exp(-us)\n",
    "    Z = jnp.trapz(pis, xs)\n",
    "    ps = pis / Z\n",
    "    return xs, ps\n",
    "\n",
    "\n",
    "def plot_samples(\n",
    "    s: State,\n",
    "    potentials: tuple[Potential, Potential] | None = None,\n",
    "    weights: Float[Array, \"N\"] | None = None,\n",
    "    bins: tuple[int, int] = (50, 50),\n",
    "    range: tuple[tuple[float, float], tuple[float, float]] = ((-3, 3), (-3, 3)),\n",
    "    label: str | None = None\n",
    "):\n",
    "    \"\"\" plot samples \"\"\"\n",
    "\n",
    "    mosaic = [\n",
    "        [\"pos\", \"aux\"],\n",
    "        [\"joint\", \"joint\"]\n",
    "    ]\n",
    "    if weights is not None:\n",
    "        mosaic.append(\n",
    "            [\"joint_weighed\", \"joint_weighed\"]\n",
    "        )\n",
    "    fig, axes = plt.subplot_mosaic(mosaic, figsize=(8, 8 + (1 if weights is not None else 0)))\n",
    "\n",
    "    for i, (ax, data, title) in enumerate(zip((\"pos\", \"aux\"), (s.pos, s.aux), (\"pos\", \"aux\"))):\n",
    "        axes[ax].hist(data[:, 0], bins=bins[i], density=True, histtype=\"step\", range=range[i],  # type: ignore\n",
    "                      label=\"samples\", color=\"blue\")\n",
    "        axes[ax].set_title(title)  # type: ignore\n",
    "\n",
    "    if weights is not None:\n",
    "        for i, (ax, data, title) in enumerate(zip((\"pos\", \"aux\"), (s.pos, s.aux), (\"pos\", \"aux\"))):\n",
    "            axes[ax].hist(data[:, 0], bins=bins[i], density=True, histtype=\"step\", range=range[i],  # type: ignore\n",
    "                          label=\"samples (reweighed)\", color=\"green\", weights=weights)\n",
    "    if potentials is not None:\n",
    "        for ax, pot in zip((\"pos\", \"aux\"), potentials, strict=True):\n",
    "            xs, ps = density(pot)\n",
    "            axes[ax].plot(xs, ps, color=\"red\", label=\"density\")  # type: ignore\n",
    "    \n",
    "    for ax in (\"pos\", \"aux\"):\n",
    "        axes[ax].legend()  # type: ignore\n",
    "    \n",
    "    axes[\"joint\"].hist2d(s.pos[:, 0], s.aux[:, 0], bins=bins, range=range)  # type: ignore\n",
    "    axes[\"joint\"].set_title(\"joint\")  # type: ignore\n",
    "\n",
    "    if weights is not None:\n",
    "        axes[\"joint_weighed\"].hist2d(s.pos[:, 0], s.aux[:, 0], bins=bins, range=range, weights=weights)  # type: ignore\n",
    "        axes[\"joint_weighed\"].set_title(\"joint (reweighed)\")  # type: ignore\n",
    "    if label is not None:\n",
    "        fig.suptitle(label)  # type: ignore"
   ]
  },
  {
   "cell_type": "markdown",
   "metadata": {},
   "source": [
    "# Sample from target potential"
   ]
  },
  {
   "cell_type": "code",
   "execution_count": 5,
   "metadata": {},
   "outputs": [],
   "source": [
    "\"\"\" use numpyro sampler \"\"\"\n",
    "\n",
    "import numpyro as npy  # type: ignore\n",
    "from jaxtyping import PyTree  # type: ignore\n",
    "\n",
    "\n",
    "def sample(\n",
    "    key: jax.random.PRNGKeyArray,\n",
    "    potential_fn: Potential[T],\n",
    "    num_samples: int,\n",
    "    init: T,\n",
    "    num_chains: int,\n",
    "    num_warmup: int\n",
    ") -> T:\n",
    "    \"\"\" samples from potential using numpyro's no-u-turn sampler (HMC). \"\"\"\n",
    "    mcmc = npy.infer.MCMC(npy.infer.NUTS(potential_fn=potential_fn), num_warmup=num_warmup, num_samples=num_samples, num_chains=num_chains)\n",
    "    mcmc.run(key, init_params=init)\n",
    "    return mcmc.get_samples()"
   ]
  },
  {
   "cell_type": "code",
   "execution_count": 6,
   "metadata": {},
   "outputs": [
    {
     "name": "stderr",
     "output_type": "stream",
     "text": [
      "sample: 100%|██████████| 10100/10100 [00:11<00:00, 886.60it/s, 21 steps of size 1.72e-01. acc. prob=0.96] \n"
     ]
    }
   ],
   "source": [
    "num_chains = 1\n",
    "\n",
    "init = State(\n",
    "    jax.random.normal(next(chain), (num_chains,)),\n",
    "    jax.random.normal(next(chain), (num_chains,))\n",
    ")\n",
    "\n",
    "npy.set_host_device_count(num_chains)\n",
    "data = sample(\n",
    "    next(chain),\n",
    "    joint_target_potential,\n",
    "    num_samples=10_000,\n",
    "    init=init,\n",
    "    num_chains=num_chains,\n",
    "    num_warmup=100\n",
    ")"
   ]
  },
  {
   "cell_type": "code",
   "execution_count": 7,
   "metadata": {},
   "outputs": [
    {
     "data": {
      "image/png": "[encoded data removed]",
      "text/plain": [
       "<Figure size 576x576 with 3 Axes>"
      ]
     },
     "metadata": {
      "needs_background": "light"
     },
     "output_type": "display_data"
    }
   ],
   "source": [
    "\"\"\" plot data \"\"\"\n",
    "\n",
    "plot_samples(data, (double_well_potential, harmonic_potential), label=\"data\")"
   ]
  },
  {
   "cell_type": "markdown",
   "metadata": {},
   "source": [
    "---"
   ]
  },
  {
   "cell_type": "markdown",
   "metadata": {},
   "source": [
    "# Define flow"
   ]
  },
  {
   "cell_type": "code",
   "execution_count": 8,
   "metadata": {},
   "outputs": [],
   "source": [
    "import flox"
   ]
  },
  {
   "cell_type": "code",
   "execution_count": 9,
   "metadata": {},
   "outputs": [],
   "source": [
    "import flox.nn\n"
   ]
  },
  {
   "cell_type": "code",
   "execution_count": null,
   "metadata": {},
   "outputs": [],
   "source": []
  },
  {
   "cell_type": "code",
   "execution_count": 10,
   "metadata": {},
   "outputs": [],
   "source": [
    "\"\"\" Define the flows. \"\"\"\n",
    "\n",
    "import distrax\n",
    "import haiku as hk\n",
    "import lenses\n",
    "\n",
    "from flox.flow import (\n",
    "    Pipe,\n",
    "    SimpleCoupling,\n",
    "    Transform,\n",
    "    Transformed,\n",
    "    Affine,\n",
    "    DistraxWrapper\n",
    ")\n",
    "from flox.util import Lens\n",
    "from flox.nn import haiku as fhk\n",
    "\n",
    "NUM_FLOW_LAYERS = 3\n",
    "NUM_HIDDEN = 128\n",
    "NUM_BINS = 20\n",
    "\n",
    "\n",
    "class MySplineTransform(hk.Module):\n",
    "\n",
    "    def __init__(self, field: Callable[[State], VectorN], num_hidden: int, num_bins: int, dims: int, activation=jax.nn.silu):\n",
    "        super().__init__(name=\"position_transform\")\n",
    "        self.field = field\n",
    "        self.net = fhk.dense([num_hidden, 3 * num_bins + 1], activation)\n",
    "\n",
    "    def __call__(self, s: State) -> DistraxWrapper:\n",
    "        params = self.net(self.field(s))\n",
    "        return DistraxWrapper(\n",
    "            distrax.RationalQuadraticSpline(\n",
    "                params, range_min=-3., range_max=3.\n",
    "            )\n",
    "        )\n",
    "\n",
    "class MyAffineTransform(hk.Module):\n",
    "\n",
    "    def __init__(self, field: Callable[[State], VectorN], num_hidden: int, dims: int, activation=jax.nn.silu):\n",
    "        super().__init__(name=\"auxiliary_transform\")\n",
    "        self.field = field\n",
    "        self.net = fhk.dense([num_hidden, 2 * dims], activation=activation)\n",
    "\n",
    "    def __call__(self, s: State) -> Affine:\n",
    "        shift, scale = jnp.split(self.net(self.field(s)), 2)\n",
    "        return Affine(shift, scale * 1e-1)\n",
    "\n",
    "\n",
    "def get_aux(s: State) -> VectorN:\n",
    "    return s.aux\n",
    "\n",
    "def update_aux(s: State, aux: VectorN) -> State:\n",
    "    return lenses.bind(s).aux.set(aux)\n",
    "    \n",
    "def get_pos(s: State) -> VectorN:\n",
    "    return s.pos\n",
    "\n",
    "def update_pos(s: State, pos: VectorN) -> State:\n",
    "    return lenses.bind(s).pos.set(pos)\n",
    "\n",
    "\n",
    "\"\"\"\n",
    "\n",
    "State -> Transformed[State] = (State, Volume)\n",
    "\n",
    "Seq: T -> \n",
    "\n",
    "Wrap: T -> V[T]\n",
    "Seq: [ ... V[T] ... ] -> V[T]\n",
    "\"\"\"\n",
    "\n",
    "\n",
    "def make_flow() -> Transform[State, State]:\n",
    "    def block():\n",
    "        return Pipe([\n",
    "            SimpleCoupling(\n",
    "                MyAffineTransform(get_pos, num_hidden=NUM_HIDDEN, dims=1),\n",
    "                Lens(get_aux, update_aux)\n",
    "            ),\n",
    "            SimpleCoupling(\n",
    "                MySplineTransform(get_aux, num_hidden=NUM_HIDDEN, num_bins=NUM_BINS, dims=1),\n",
    "                Lens(get_pos, update_pos)\n",
    "            )\n",
    "        ])\n",
    "    return fhk.LayerStack(block, num_layers=NUM_FLOW_LAYERS)\n",
    "\n",
    "flow = fhk.to_haiku(make_flow)"
   ]
  },
  {
   "cell_type": "code",
   "execution_count": null,
   "metadata": {},
   "outputs": [],
   "source": []
  },
  {
   "cell_type": "code",
   "execution_count": 11,
   "metadata": {},
   "outputs": [],
   "source": [
    "from jaxtyping import jaxtyped, Array, Float  # type: ignore"
   ]
  },
  {
   "cell_type": "markdown",
   "metadata": {},
   "source": [
    "# Setup optimization"
   ]
  },
  {
   "cell_type": "code",
   "execution_count": 12,
   "metadata": {},
   "outputs": [],
   "source": [
    "initializer = sample_base(next(chain))"
   ]
  },
  {
   "cell_type": "code",
   "execution_count": 13,
   "metadata": {},
   "outputs": [],
   "source": [
    "\n",
    "params = jax.jit(flow.pure.init)(next(chain), initializer.obj)"
   ]
  },
  {
   "cell_type": "code",
   "execution_count": 14,
   "metadata": {},
   "outputs": [
    {
     "name": "stdout",
     "output_type": "stream",
     "text": [
      "stacked/~_apply/layer_stack/auxiliary_transform/~/dense/linear\n",
      "stacked/~_apply/layer_stack/auxiliary_transform/~/dense/linear_1\n",
      "stacked/~_apply/layer_stack/position_transform/~/dense/linear\n",
      "stacked/~_apply/layer_stack/position_transform/~/dense/linear_1\n"
     ]
    }
   ],
   "source": [
    "for k in params.keys():\n",
    "    print(k)"
   ]
  },
  {
   "cell_type": "code",
   "execution_count": 15,
   "metadata": {},
   "outputs": [],
   "source": [
    "import optax\n",
    "\n",
    "NUM_ITERS = 3_000\n",
    "PLOT_INTERVAL = 50\n",
    "LEARNING_RATE = 1e-4\n",
    "\n",
    "optim = optax.adam(learning_rate=LEARNING_RATE)\n",
    "opt_state = optim.init(params)"
   ]
  },
  {
   "cell_type": "code",
   "execution_count": null,
   "metadata": {},
   "outputs": [],
   "source": []
  },
  {
   "cell_type": "markdown",
   "metadata": {},
   "source": [
    "# Train"
   ]
  },
  {
   "cell_type": "code",
   "execution_count": 16,
   "metadata": {},
   "outputs": [],
   "source": [
    "from flox.nn import train\n",
    "from flox.flow import DatasetSampler\n",
    "\n",
    "step = train.mle_step(joint_base_potential, flow, optim, DatasetSampler(data, data.pos.shape[0]), 128)"
   ]
  },
  {
   "cell_type": "code",
   "execution_count": 17,
   "metadata": {},
   "outputs": [
    {
     "data": {
      "image/png": "[encoded data removed]",
      "text/plain": [
       "<Figure size 432x288 with 1 Axes>"
      ]
     },
     "metadata": {
      "needs_background": "light"
     },
     "output_type": "display_data"
    },
    {
     "name": "stderr",
     "output_type": "stream",
     "text": [
      "loss: 0.5816: 100%|██████████| 3000/3000 [00:27<00:00, 108.47it/s]\n"
     ]
    }
   ],
   "source": [
    "import time\n",
    "\n",
    "from IPython import display  # type: ignore\n",
    "from IPython.display import clear_output  # type: ignore\n",
    "from tqdm import tqdm\n",
    "\n",
    "pbar = tqdm(range(NUM_ITERS))\n",
    "agg_loss = train.RunningMean(0., 0)\n",
    "losses = []\n",
    "\n",
    "\n",
    "for i in pbar:\n",
    "    \n",
    "    loss, params, opt_state = step(next(chain), params, opt_state)  # type: ignore\n",
    "    agg_loss = agg_loss.update(loss)\n",
    "    losses.append(agg_loss.value)\n",
    "    \n",
    "    pbar.set_description(f\"loss: {agg_loss.value:.4}\")\n",
    "    if not i % PLOT_INTERVAL:\n",
    "        \n",
    "        display.clear_output(wait=True)\n",
    "        plt.plot(losses)\n",
    "        plt.ylabel(\"NLL\")\n",
    "        plt.xlabel(\"#iters\")\n",
    "    \n",
    "        plt.show()\n",
    "        time.sleep(0.001)"
   ]
  },
  {
   "cell_type": "markdown",
   "metadata": {},
   "source": [
    "# Check inverses"
   ]
  },
  {
   "cell_type": "code",
   "execution_count": 18,
   "metadata": {},
   "outputs": [
    {
     "data": {
      "text/plain": [
       "(Transformed(obj=State(pos=DeviceArray([-0.64758337], dtype=float32), aux=DeviceArray([1.5325323], dtype=float32)), ldj=DeviceArray(1.5445821, dtype=float32)),\n",
       " Transformed(obj=State(pos=DeviceArray([-0.6475834], dtype=float32), aux=DeviceArray([1.5325321], dtype=float32)), ldj=DeviceArray(3.2218864, dtype=float32)),\n",
       " Transformed(obj=State(pos=DeviceArray([-1.5333903], dtype=float32), aux=DeviceArray([0.72944796], dtype=float32)), ldj=DeviceArray(-1.5445819, dtype=float32)))"
      ]
     },
     "execution_count": 18,
     "metadata": {},
     "output_type": "execute_result"
    }
   ],
   "source": [
    "a = flow.with_params(params).forward(\n",
    "    initializer.obj\n",
    ")\n",
    "b = flow.with_params(params).inverse(\n",
    "    a.obj\n",
    ")\n",
    "b, initializer, a"
   ]
  },
  {
   "cell_type": "markdown",
   "metadata": {},
   "source": [
    "# Sample after training"
   ]
  },
  {
   "cell_type": "code",
   "execution_count": 19,
   "metadata": {},
   "outputs": [
    {
     "data": {
      "image/png": "[encoded data removed]",
      "text/plain": [
       "<Figure size 576x648 with 4 Axes>"
      ]
     },
     "metadata": {
      "needs_background": "light"
     },
     "output_type": "display_data"
    }
   ],
   "source": [
    "from flox.flow import PushforwardSampler\n",
    "\n",
    "out = jax.jit(jax.vmap(PushforwardSampler(sample_base, flow.with_params(params))))(jax.random.split(next(chain), 10_000))\n",
    "\n",
    "weights = jax.nn.softmax(\n",
    "    -jax.vmap(joint_target_potential)(out.obj) + out.ldj\n",
    ")\n",
    "\n",
    "plot_samples(out.obj, (double_well_potential, harmonic_potential), label=\"flow_samples\", weights=weights)"
   ]
  },
  {
   "cell_type": "code",
   "execution_count": null,
   "metadata": {},
   "outputs": [],
   "source": []
  }
 ],
 "metadata": {
  "kernelspec": {
   "display_name": "Python 3 (ipykernel)",
   "language": "python",
   "name": "python3"
  },
  "language_info": {
   "codemirror_mode": {
    "name": "ipython",
    "version": 3
   },
   "file_extension": ".py",
   "mimetype": "text/x-python",
   "name": "python",
   "nbconvert_exporter": "python",
   "pygments_lexer": "ipython3",
   "version": "3.10.5"
  },
  "vscode": {
   "interpreter": {
    "hash": "d1b6e97da93df4710d419de16df68eb92ecab97f41c13fcb5d93100dfb1d2aa2"
   }
  }
 },
 "nbformat": 4,
 "nbformat_minor": 4
}
