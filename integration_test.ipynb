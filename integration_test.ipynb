{
 "cells": [
  {
   "cell_type": "code",
   "execution_count": 1,
   "id": "eeb752e0-4392-4303-a461-b7b208116dca",
   "metadata": {},
   "outputs": [],
   "source": [
    "%load_ext autoreload\n",
    "%autoreload 2"
   ]
  },
  {
   "cell_type": "code",
   "execution_count": 2,
   "id": "bfd6df1d-0707-4164-a4ac-6fd685a4d9ea",
   "metadata": {},
   "outputs": [],
   "source": [
    "import sys\n",
    "\n",
    "sys.path.append(\"so3os\")"
   ]
  },
  {
   "cell_type": "code",
   "execution_count": 3,
   "id": "1c38a93d-efd7-47c0-bcfc-507bde7a6357",
   "metadata": {},
   "outputs": [],
   "source": [
    "import jax\n",
    "import jax.numpy as jnp\n",
    "import jaxtyping as jt\n",
    "\n",
    "import numpy as np\n",
    "\n",
    "from functools import partial"
   ]
  },
  {
   "cell_type": "code",
   "execution_count": 4,
   "id": "76c54679-dbbb-4db8-aafe-690bab6e82e5",
   "metadata": {},
   "outputs": [],
   "source": [
    "from jaxtyping import install_import_hook\n",
    "\n",
    "with install_import_hook(\"so3os\", (\"typeguard\", \"typechecked\")):\n",
    "    from so3os import euler, geometry, quaternion, moebius\n",
    "    from so3os.func_utils import compose, unpack_args\n",
    "    from so3os.jax_utils import key_chain"
   ]
  },
  {
   "cell_type": "code",
   "execution_count": 5,
   "id": "e0bcea4b-d022-4114-a186-8f3b2d3cb317",
   "metadata": {},
   "outputs": [],
   "source": [
    "# auto key chain for\n",
    "chain = key_chain(42)"
   ]
  },
  {
   "cell_type": "code",
   "execution_count": 6,
   "id": "759626d8-2ba3-4f98-b94f-6cc406764aca",
   "metadata": {},
   "outputs": [
    {
     "name": "stderr",
     "output_type": "stream",
     "text": [
      "WARNING:absl:No GPU/TPU found, falling back to CPU. (Set TF_CPP_MIN_LOG_LEVEL=0 and rerun for more info.)\n"
     ]
    }
   ],
   "source": [
    "# check conversions\n",
    "euler_angles = jax.random.uniform(next(chain), shape=(3,))\n",
    "\n",
    "should_be_identity = compose(\n",
    "    euler.to_euler,\n",
    "    quaternion.quat_to_mat,\n",
    "    quaternion.mat_to_quat,\n",
    "    euler.from_euler\n",
    ")\n",
    "\n",
    "assert jnp.allclose(euler_angles, should_be_identity(euler_angles))"
   ]
  },
  {
   "cell_type": "code",
   "execution_count": 7,
   "id": "166907ec-a736-4ed0-8d5d-a9ec91e34c28",
   "metadata": {},
   "outputs": [],
   "source": [
    "# check quaternion rotation\n",
    "euler_angles = jax.random.uniform(next(chain), shape=(3,))\n",
    "\n",
    "R = euler.from_euler(euler_angles)\n",
    "q = quaternion.mat_to_quat(R)\n",
    "\n",
    "v = jnp.array([1.0, 0.0, 0.0])\n",
    "\n",
    "assert jnp.allclose(v @ R, quaternion.qrot3d(q, v))"
   ]
  },
  {
   "cell_type": "code",
   "execution_count": 8,
   "id": "c4de4fed-1433-4438-9c43-674c3b0c8c39",
   "metadata": {},
   "outputs": [],
   "source": [
    "# check moebius transform and inverse\n",
    "p = geometry.unit(jax.random.normal(next(chain), shape=(4,)))\n",
    "r = 0.5\n",
    "q = r * geometry.unit(jax.random.normal(next(chain), shape=(4,)))\n",
    "\n",
    "should_be_identity = compose(\n",
    "    partial(moebius.moebius_project, q=q),\n",
    "    partial(moebius.moebius_project, q=q)\n",
    ")\n",
    "assert jnp.allclose(p, should_be_identity(p))"
   ]
  },
  {
   "cell_type": "code",
   "execution_count": 9,
   "id": "c9bfd0a5-bc59-45aa-85da-6aa571396ea8",
   "metadata": {},
   "outputs": [],
   "source": [
    "# check moebius transform volume change\n",
    "p = geometry.unit(jax.random.normal(next(chain), shape=(3,)))\n",
    "r = 0.5\n",
    "q = r * geometry.unit(jax.random.normal(next(chain), shape=(3,)))\n",
    "\n",
    "\n",
    "assert jnp.allclose(\n",
    "    moebius.moebius_volume_change(p, q),\n",
    "    geometry.volume_change(partial(moebius.moebius_project, q=q), geometry.tangent_space)(p))"
   ]
  },
  {
   "cell_type": "code",
   "execution_count": 10,
   "id": "906fe48e-06a8-44da-9f8e-89facc51412b",
   "metadata": {},
   "outputs": [],
   "source": [
    "# check double moebius transform and inverse\n",
    "p = geometry.unit(jax.random.normal(next(chain), shape=(4,)))\n",
    "r = 0.5\n",
    "q = r * geometry.unit(jax.random.normal(next(chain), shape=(4,)))\n",
    "\n",
    "should_be_identity = compose(\n",
    "    partial(moebius.double_moebius_project, q=q),\n",
    "    partial(moebius.double_moebius_inverse, q=q)\n",
    ")\n",
    "assert jnp.allclose(p, should_be_identity(p))"
   ]
  },
  {
   "cell_type": "code",
   "execution_count": 11,
   "id": "e02a200a-9478-48c1-9a21-a5e8c3176fb9",
   "metadata": {},
   "outputs": [],
   "source": [
    "# check double moebius transform volume change\n",
    "p = geometry.unit(jax.random.normal(next(chain), shape=(4,)))\n",
    "r = 0.5\n",
    "q = r * geometry.unit(jax.random.normal(next(chain), shape=(4,)))\n",
    "\n",
    "\n",
    "assert jnp.allclose(\n",
    "    moebius.double_moebius_volume_change(p, q),\n",
    "    geometry.volume_change(partial(moebius.double_moebius_project, q=q), geometry.tangent_space)(p))"
   ]
  },
  {
   "cell_type": "code",
   "execution_count": null,
   "id": "16d71619-b9d1-405d-8477-365f21bf86cd",
   "metadata": {},
   "outputs": [],
   "source": []
  }
 ],
 "metadata": {
  "kernelspec": {
   "display_name": "dev",
   "language": "python",
   "name": "dev"
  },
  "language_info": {
   "codemirror_mode": {
    "name": "ipython",
    "version": 3
   },
   "file_extension": ".py",
   "mimetype": "text/x-python",
   "name": "python",
   "nbconvert_exporter": "python",
   "pygments_lexer": "ipython3",
   "version": "3.10.5"
  }
 },
 "nbformat": 4,
 "nbformat_minor": 5
}
